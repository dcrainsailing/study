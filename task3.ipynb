{
 "cells": [
  {
   "cell_type": "markdown",
   "id": "067c2252-86d4-4b1f-80af-5f20bfd40439",
   "metadata": {
    "tags": []
   },
   "source": [
    "### 安装配置环境"
   ]
  },
  {
   "cell_type": "code",
   "execution_count": 1,
   "id": "aa7ea2a6-225c-4fdd-b6e9-e9ef256065a3",
   "metadata": {},
   "outputs": [
    {
     "name": "stdout",
     "output_type": "stream",
     "text": [
      "Looking in indexes: https://pypi.tuna.tsinghua.edu.cn/simple\n",
      "Requirement already satisfied: numpy in /environment/miniconda3/lib/python3.7/site-packages (1.21.4)\n",
      "Requirement already satisfied: pandas in /environment/miniconda3/lib/python3.7/site-packages (1.3.4)\n",
      "Requirement already satisfied: matplotlib in /environment/miniconda3/lib/python3.7/site-packages (3.5.0)\n",
      "Collecting seaborn\n",
      "  Downloading https://pypi.tuna.tsinghua.edu.cn/packages/8f/2e/17bbb83fbf102687bb2aa3d808add39da820a7698159302a1a69bb82e01c/seaborn-0.12.2-py3-none-any.whl (293 kB)\n",
      "\u001b[K     |████████████████████████████████| 293 kB 53.2 MB/s eta 0:00:01\n",
      "\u001b[?25hRequirement already satisfied: plotly in /environment/miniconda3/lib/python3.7/site-packages (5.4.0)\n",
      "Requirement already satisfied: requests in /environment/miniconda3/lib/python3.7/site-packages (2.24.0)\n",
      "Requirement already satisfied: tqdm in /environment/miniconda3/lib/python3.7/site-packages (4.61.2)\n",
      "Requirement already satisfied: opencv-python in /environment/miniconda3/lib/python3.7/site-packages (4.5.4.60)\n",
      "Requirement already satisfied: pillow in /environment/miniconda3/lib/python3.7/site-packages (8.4.0)\n",
      "Collecting wandb\n",
      "  Downloading https://pypi.tuna.tsinghua.edu.cn/packages/a3/b4/279ec12c6c481d0f672e9cf89fbdf7e57f5aacaf23493c699e1c00671ce0/wandb-0.13.9-py2.py3-none-any.whl (2.0 MB)\n",
      "\u001b[K     |████████████████████████████████| 2.0 MB 66.9 MB/s eta 0:00:01\n",
      "\u001b[?25hRequirement already satisfied: pytz>=2017.3 in /environment/miniconda3/lib/python3.7/site-packages (from pandas) (2021.3)\n",
      "Requirement already satisfied: python-dateutil>=2.7.3 in /environment/miniconda3/lib/python3.7/site-packages (from pandas) (2.8.2)\n",
      "Requirement already satisfied: six>=1.5 in /environment/miniconda3/lib/python3.7/site-packages (from python-dateutil>=2.7.3->pandas) (1.16.0)\n",
      "Requirement already satisfied: fonttools>=4.22.0 in /environment/miniconda3/lib/python3.7/site-packages (from matplotlib) (4.28.3)\n",
      "Requirement already satisfied: packaging>=20.0 in /environment/miniconda3/lib/python3.7/site-packages (from matplotlib) (21.3)\n",
      "Requirement already satisfied: cycler>=0.10 in /environment/miniconda3/lib/python3.7/site-packages (from matplotlib) (0.11.0)\n",
      "Requirement already satisfied: setuptools-scm>=4 in /environment/miniconda3/lib/python3.7/site-packages (from matplotlib) (6.3.2)\n",
      "Requirement already satisfied: pyparsing>=2.2.1 in /environment/miniconda3/lib/python3.7/site-packages (from matplotlib) (3.0.6)\n",
      "Requirement already satisfied: kiwisolver>=1.0.1 in /environment/miniconda3/lib/python3.7/site-packages (from matplotlib) (1.3.2)\n",
      "Requirement already satisfied: setuptools in /environment/miniconda3/lib/python3.7/site-packages (from setuptools-scm>=4->matplotlib) (52.0.0.post20210125)\n",
      "Requirement already satisfied: tomli>=1.0.0 in /environment/miniconda3/lib/python3.7/site-packages (from setuptools-scm>=4->matplotlib) (1.2.2)\n",
      "Requirement already satisfied: typing_extensions in /environment/miniconda3/lib/python3.7/site-packages (from seaborn) (4.0.1)\n",
      "Requirement already satisfied: tenacity>=6.2.0 in /environment/miniconda3/lib/python3.7/site-packages (from plotly) (8.0.1)\n",
      "Requirement already satisfied: urllib3!=1.25.0,!=1.25.1,<1.26,>=1.21.1 in /environment/miniconda3/lib/python3.7/site-packages (from requests) (1.25.11)\n",
      "Requirement already satisfied: chardet<4,>=3.0.2 in /environment/miniconda3/lib/python3.7/site-packages (from requests) (3.0.4)\n",
      "Requirement already satisfied: idna<3,>=2.5 in /environment/miniconda3/lib/python3.7/site-packages (from requests) (2.10)\n",
      "Requirement already satisfied: certifi>=2017.4.17 in /environment/miniconda3/lib/python3.7/site-packages (from requests) (2021.5.30)\n",
      "Collecting pathtools\n",
      "  Downloading https://pypi.tuna.tsinghua.edu.cn/packages/e7/7f/470d6fcdf23f9f3518f6b0b76be9df16dcc8630ad409947f8be2eb0ed13a/pathtools-0.1.2.tar.gz (11 kB)\n",
      "Collecting psutil>=5.0.0\n",
      "  Downloading https://pypi.tuna.tsinghua.edu.cn/packages/6e/c8/784968329c1c67c28cce91991ef9af8a8913aa5a3399a6a8954b1380572f/psutil-5.9.4-cp36-abi3-manylinux_2_12_x86_64.manylinux2010_x86_64.manylinux_2_17_x86_64.manylinux2014_x86_64.whl (280 kB)\n",
      "\u001b[K     |████████████████████████████████| 280 kB 59.7 MB/s eta 0:00:01\n",
      "\u001b[?25hCollecting setproctitle\n",
      "  Downloading https://pypi.tuna.tsinghua.edu.cn/packages/4b/b1/95367ba12415e48f331379032fe8060c56fbddc0b74838d1c6668e031a44/setproctitle-1.3.2-cp37-cp37m-manylinux_2_5_x86_64.manylinux1_x86_64.manylinux_2_17_x86_64.manylinux2014_x86_64.whl (30 kB)\n",
      "Requirement already satisfied: Click!=8.0.0,>=7.0 in /environment/miniconda3/lib/python3.7/site-packages (from wandb) (7.1.2)\n",
      "Collecting sentry-sdk>=1.0.0\n",
      "  Downloading https://pypi.tuna.tsinghua.edu.cn/packages/06/fa/cfc43276f3221006d861bf7e66d7361a47106121df65947fd3225793d845/sentry_sdk-1.14.0-py2.py3-none-any.whl (178 kB)\n",
      "\u001b[K     |████████████████████████████████| 178 kB 66.0 MB/s eta 0:00:01\n",
      "\u001b[?25hRequirement already satisfied: PyYAML in /environment/miniconda3/lib/python3.7/site-packages (from wandb) (6.0)\n",
      "Requirement already satisfied: protobuf!=4.21.0,<5,>=3.12.0 in /environment/miniconda3/lib/python3.7/site-packages (from wandb) (3.19.1)\n",
      "Collecting appdirs>=1.4.3\n",
      "  Downloading https://pypi.tuna.tsinghua.edu.cn/packages/3b/00/2344469e2084fb287c2e0b57b72910309874c3245463acd6cf5e3db69324/appdirs-1.4.4-py2.py3-none-any.whl (9.6 kB)\n",
      "Collecting docker-pycreds>=0.4.0\n",
      "  Downloading https://pypi.tuna.tsinghua.edu.cn/packages/f5/e8/f6bd1eee09314e7e6dee49cbe2c5e22314ccdb38db16c9fc72d2fa80d054/docker_pycreds-0.4.0-py2.py3-none-any.whl (9.0 kB)\n",
      "Collecting GitPython>=1.0.0\n",
      "  Downloading https://pypi.tuna.tsinghua.edu.cn/packages/d0/7c/e6942be5f2c03a9de68a6c782373dcec7dc1d10664dd20652bfb7307f905/GitPython-3.1.30-py3-none-any.whl (184 kB)\n",
      "\u001b[K     |████████████████████████████████| 184 kB 66.1 MB/s eta 0:00:01\n",
      "\u001b[?25hCollecting gitdb<5,>=4.0.1\n",
      "  Downloading https://pypi.tuna.tsinghua.edu.cn/packages/21/a6/35f83efec687615c711fe0a09b67e58f6d1254db27b1013119de46f450bd/gitdb-4.0.10-py3-none-any.whl (62 kB)\n",
      "\u001b[K     |████████████████████████████████| 62 kB 28.5 MB/s eta 0:00:01\n",
      "\u001b[?25hCollecting smmap<6,>=3.0.1\n",
      "  Downloading https://pypi.tuna.tsinghua.edu.cn/packages/6d/01/7caa71608bc29952ae09b0be63a539e50d2484bc37747797a66a60679856/smmap-5.0.0-py3-none-any.whl (24 kB)\n",
      "Collecting sentry-sdk>=1.0.0\n",
      "  Downloading https://pypi.tuna.tsinghua.edu.cn/packages/72/d9/180f76abcba93a1c8e131e756564b4c6a7123c2d495d1022f05374c2cf78/sentry_sdk-1.13.0-py2.py3-none-any.whl (177 kB)\n",
      "\u001b[K     |████████████████████████████████| 177 kB 63.3 MB/s eta 0:00:01\n",
      "\u001b[?25h  Downloading https://pypi.tuna.tsinghua.edu.cn/packages/5f/aa/526c8ed2f1e499d641d4cd05a91cd56be9c078597c4b39033a43e794f827/sentry_sdk-1.12.1-py2.py3-none-any.whl (174 kB)\n",
      "\u001b[K     |████████████████████████████████| 174 kB 67.6 MB/s eta 0:00:01\n",
      "\u001b[?25h  Downloading https://pypi.tuna.tsinghua.edu.cn/packages/16/64/9f5374f927a0f3ba9dff23ea8f06e2db0c1f19e3a8a1d2f771a922b57cc9/sentry_sdk-1.12.0-py2.py3-none-any.whl (173 kB)\n",
      "\u001b[K     |████████████████████████████████| 173 kB 71.3 MB/s eta 0:00:01\n",
      "\u001b[?25h  Downloading https://pypi.tuna.tsinghua.edu.cn/packages/04/d7/7926583375f71c753b6d136b70af30b88d0455b1b0c16beef95740c648d5/sentry_sdk-1.11.1-py2.py3-none-any.whl (168 kB)\n",
      "\u001b[K     |████████████████████████████████| 168 kB 72.8 MB/s eta 0:00:01\n",
      "\u001b[?25h  Downloading https://pypi.tuna.tsinghua.edu.cn/packages/b9/73/c3201e119935c18521d2aed60803269ffe0ac92b22a84e8717b68478eec6/sentry_sdk-1.11.0-py2.py3-none-any.whl (168 kB)\n",
      "\u001b[K     |████████████████████████████████| 168 kB 33.4 MB/s eta 0:00:01\n",
      "\u001b[?25h  Downloading https://pypi.tuna.tsinghua.edu.cn/packages/48/ad/1adaf9c1c89b105e3244367bb621627b2e8104c72648ee82139c8c69ccb8/sentry_sdk-1.10.1-py2.py3-none-any.whl (166 kB)\n",
      "\u001b[K     |████████████████████████████████| 166 kB 36.2 MB/s eta 0:00:0101\n",
      "\u001b[?25h  Downloading https://pypi.tuna.tsinghua.edu.cn/packages/68/0f/6986940f2c56d8eb65f0b1b9a4785d455fcf42a38bceaf22c0c979d13e47/sentry_sdk-1.10.0-py2.py3-none-any.whl (166 kB)\n",
      "\u001b[K     |████████████████████████████████| 166 kB 32.3 MB/s eta 0:00:01\n",
      "\u001b[?25h  Downloading https://pypi.tuna.tsinghua.edu.cn/packages/06/c6/331d30886b234073ea199f887e3231bb17effc6af495bcee73f164964035/sentry_sdk-1.9.10-py2.py3-none-any.whl (162 kB)\n",
      "\u001b[K     |████████████████████████████████| 162 kB 44.6 MB/s eta 0:00:01\n",
      "\u001b[?25h  Downloading https://pypi.tuna.tsinghua.edu.cn/packages/97/ad/5f8fd1bdeee1219f9de19b73fbd04a0215f846b46aa11b2385a3a008b332/sentry_sdk-1.9.9-py2.py3-none-any.whl (162 kB)\n",
      "\u001b[K     |████████████████████████████████| 162 kB 50.3 MB/s eta 0:00:01\n",
      "\u001b[?25h  Downloading https://pypi.tuna.tsinghua.edu.cn/packages/f9/98/c23dac4969025da6614490374e19b5a2d39c638e99bf89bdbe9e3cd90f26/sentry_sdk-1.9.8-py2.py3-none-any.whl (158 kB)\n",
      "\u001b[K     |████████████████████████████████| 158 kB 45.5 MB/s eta 0:00:01\n",
      "\u001b[?25h  Downloading https://pypi.tuna.tsinghua.edu.cn/packages/ca/3c/94daf65b5a9dbf19f12af6de67841fec3ce5c80d1bc252b6180d7b5e6382/sentry_sdk-1.9.7-py2.py3-none-any.whl (157 kB)\n",
      "\u001b[K     |████████████████████████████████| 157 kB 47.0 MB/s eta 0:00:01\n",
      "\u001b[?25h  Downloading https://pypi.tuna.tsinghua.edu.cn/packages/0a/3d/4ef597b13bf0a4b373b9f4a28f6bef9639fcf3ea620206a6037a4698aa2e/sentry_sdk-1.9.6-py2.py3-none-any.whl (157 kB)\n",
      "\u001b[K     |████████████████████████████████| 157 kB 49.6 MB/s eta 0:00:01\n",
      "\u001b[?25h  Downloading https://pypi.tuna.tsinghua.edu.cn/packages/7d/c3/7da8ce136e156f07ad75b397bb13a2aebdcc6cc85e0a2a564b79224f94fe/sentry_sdk-1.9.5-py2.py3-none-any.whl (157 kB)\n",
      "\u001b[K     |████████████████████████████████| 157 kB 49.6 MB/s eta 0:00:01\n",
      "\u001b[?25h  Downloading https://pypi.tuna.tsinghua.edu.cn/packages/ab/c9/3bc0544f77cf39ff97e6f732e01401f7e81a62a8c6d77e0a1d9addbdc695/sentry_sdk-1.9.4-py2.py3-none-any.whl (157 kB)\n",
      "\u001b[K     |████████████████████████████████| 157 kB 40.5 MB/s eta 0:00:01\n",
      "\u001b[?25h  Downloading https://pypi.tuna.tsinghua.edu.cn/packages/15/6b/dd03f466be7535087b0fb68282d4e54266aaca3c9917ece3302ce4706d56/sentry_sdk-1.9.3-py2.py3-none-any.whl (157 kB)\n",
      "\u001b[K     |████████████████████████████████| 157 kB 49.7 MB/s eta 0:00:01\n",
      "\u001b[?25h  Downloading https://pypi.tuna.tsinghua.edu.cn/packages/96/04/1bb0decdc869b42a9e48f93a0c07e1f6a088088ed60746bbea473cbfa12c/sentry_sdk-1.9.2-py2.py3-none-any.whl (157 kB)\n",
      "\u001b[K     |████████████████████████████████| 157 kB 47.6 MB/s eta 0:00:01\n",
      "\u001b[?25h  Downloading https://pypi.tuna.tsinghua.edu.cn/packages/f4/72/464966f2c60696bae0eae55270f29883e03581d12aeecddf87ef5ffb6752/sentry_sdk-1.9.1-py2.py3-none-any.whl (157 kB)\n",
      "\u001b[K     |████████████████████████████████| 157 kB 78.4 MB/s eta 0:00:01\n",
      "\u001b[?25h  Downloading https://pypi.tuna.tsinghua.edu.cn/packages/34/ee/92a218cc1563eda06bc50117e1b5d004b46d1a7784c387c9bf91685e1311/sentry_sdk-1.9.0-py2.py3-none-any.whl (156 kB)\n",
      "\u001b[K     |████████████████████████████████| 156 kB 81.2 MB/s eta 0:00:01\n",
      "\u001b[?25hBuilding wheels for collected packages: pathtools\n",
      "  Building wheel for pathtools (setup.py) ... \u001b[?25ldone\n",
      "\u001b[?25h  Created wheel for pathtools: filename=pathtools-0.1.2-py3-none-any.whl size=8784 sha256=08a4209cd1df09994e68224e6c77db66bc641f99dd9c21411f4fb3222e8350c9\n",
      "  Stored in directory: /home/featurize/.cache/pip/wheels/32/da/c2/cb31f0a788c8190fa7a3a6b21515f3a7ee22b59e84344cae9a\n",
      "Successfully built pathtools\n",
      "Installing collected packages: smmap, gitdb, setproctitle, sentry-sdk, psutil, pathtools, GitPython, docker-pycreds, appdirs, wandb, seaborn\n",
      "Successfully installed GitPython-3.1.30 appdirs-1.4.4 docker-pycreds-0.4.0 gitdb-4.0.10 pathtools-0.1.2 psutil-5.9.4 seaborn-0.12.2 sentry-sdk-1.9.0 setproctitle-1.3.2 smmap-5.0.0 wandb-0.13.9\n"
     ]
    }
   ],
   "source": [
    "!pip install numpy pandas matplotlib seaborn plotly requests tqdm opencv-python pillow wandb -i https://pypi.tuna.tsinghua.edu.cn/simple"
   ]
  },
  {
   "cell_type": "markdown",
   "id": "f84aa650-7c20-4b5b-bc9e-14a2256a3563",
   "metadata": {},
   "source": [
    "#### 下载安装Pytorch"
   ]
  },
  {
   "cell_type": "code",
   "execution_count": 2,
   "id": "29995f81-77d8-4175-9c9d-7fb504ecb269",
   "metadata": {},
   "outputs": [
    {
     "name": "stdout",
     "output_type": "stream",
     "text": [
      "Looking in indexes: https://pypi.tuna.tsinghua.edu.cn/simple, https://download.pytorch.org/whl/cu113\n",
      "Requirement already satisfied: torch in /environment/miniconda3/lib/python3.7/site-packages (1.10.0+cu113)\n",
      "Requirement already satisfied: torchvision in /environment/miniconda3/lib/python3.7/site-packages (0.11.1+cu113)\n",
      "Requirement already satisfied: torchaudio in /environment/miniconda3/lib/python3.7/site-packages (0.10.0+cu113)\n",
      "Requirement already satisfied: typing-extensions in /environment/miniconda3/lib/python3.7/site-packages (from torch) (4.0.1)\n",
      "Requirement already satisfied: pillow!=8.3.0,>=5.3.0 in /environment/miniconda3/lib/python3.7/site-packages (from torchvision) (8.4.0)\n",
      "Requirement already satisfied: numpy in /environment/miniconda3/lib/python3.7/site-packages (from torchvision) (1.21.4)\n"
     ]
    }
   ],
   "source": [
    "!pip3 install torch torchvision torchaudio --extra-index-url https://download.pytorch.org/whl/cu113"
   ]
  },
  {
   "cell_type": "markdown",
   "id": "907e66fd-77ec-4178-a635-82ea059367a2",
   "metadata": {},
   "source": [
    "#### 下载中文字体文件"
   ]
  },
  {
   "cell_type": "code",
   "execution_count": 99,
   "id": "b15fdce4-0c70-4def-a630-9f8eda75a822",
   "metadata": {},
   "outputs": [
    {
     "name": "stdout",
     "output_type": "stream",
     "text": [
      "--2023-01-24 00:23:50--  https://zihao-openmmlab.obs.cn-east-3.myhuaweicloud.com/20220716-mmclassification/dataset/SimHei.ttf\n",
      "正在连接 172.16.0.13:5848... 已连接。\n",
      "已发出 Proxy 请求，正在等待回应... 200 OK\n",
      "长度： 10050868 (9.6M) [application/x-font-ttf]\n",
      "正在保存至: “SimHei.ttf”\n",
      "\n",
      "SimHei.ttf          100%[===================>]   9.58M  21.5MB/s    用时 0.4s    \n",
      "\n",
      "2023-01-24 00:23:51 (21.5 MB/s) - 已保存 “SimHei.ttf” [10050868/10050868])\n",
      "\n"
     ]
    }
   ],
   "source": [
    "!wget https://zihao-openmmlab.obs.cn-east-3.myhuaweicloud.com/20220716-mmclassification/dataset/SimHei.ttf --no-check-certificate"
   ]
  },
  {
   "cell_type": "markdown",
   "id": "36972482-7d1d-4c36-b670-80403e1761e3",
   "metadata": {},
   "source": [
    "#### 创建目录"
   ]
  },
  {
   "cell_type": "code",
   "execution_count": 5,
   "id": "4484d638-f081-4624-a8ca-7bb16b2b0eec",
   "metadata": {},
   "outputs": [],
   "source": [
    "import os"
   ]
  },
  {
   "cell_type": "code",
   "execution_count": 7,
   "id": "1b296dfe-cad4-4797-8121-dcd25d44db80",
   "metadata": {},
   "outputs": [],
   "source": [
    "# 存放结果文件\n",
    "os.mkdir('output')\n",
    "\n",
    "# 存放训练得到的模型权重\n",
    "os.mkdir('checkpoints')\n",
    "\n",
    "# 存放生成的图表\n",
    "os.mkdir('图表')"
   ]
  },
  {
   "cell_type": "markdown",
   "id": "3fc06337-10b4-42bb-a48b-d03709f3c020",
   "metadata": {},
   "source": [
    "#### 设置matplotlib中文字体"
   ]
  },
  {
   "cell_type": "code",
   "execution_count": 1,
   "id": "a8f178eb-cdaa-4456-8030-ab3b4c20c8a1",
   "metadata": {},
   "outputs": [
    {
     "name": "stdout",
     "output_type": "stream",
     "text": [
      "--2023-01-24 00:28:29--  https://zihao-openmmlab.obs.cn-east-3.myhuaweicloud.com/20220716-mmclassification/dataset/SimHei.ttf\n",
      "正在连接 172.16.0.13:5848... 已连接。\n",
      "已发出 Proxy 请求，正在等待回应... 200 OK\n",
      "长度： 10050868 (9.6M) [application/x-font-ttf]\n",
      "正在保存至: “/environment/miniconda3/lib/python3.7/site-packages/matplotlib/mpl-data/fonts/ttf/SimHei.ttf”\n",
      "\n",
      "/environment/minico 100%[===================>]   9.58M  21.2MB/s    用时 0.5s    \n",
      "\n",
      "2023-01-24 00:28:30 (21.2 MB/s) - 已保存 “/environment/miniconda3/lib/python3.7/site-packages/matplotlib/mpl-data/fonts/ttf/SimHei.ttf” [10050868/10050868])\n",
      "\n"
     ]
    }
   ],
   "source": [
    "# Linux操作系统，例如 云GPU平台：https://featurize.cn/?s=d7ce99f842414bfcaea5662a97581bd1\n",
    "# 如果报错 Unable to establish SSL connection.，重新运行本代码块即可\n",
    "!wget https://zihao-openmmlab.obs.cn-east-3.myhuaweicloud.com/20220716-mmclassification/dataset/SimHei.ttf -O /environment/miniconda3/lib/python3.7/site-packages/matplotlib/mpl-data/fonts/ttf/SimHei.ttf --no-check-certificate\n",
    "!rm -rf /home/featurize/.cache/matplotlib\n",
    "\n",
    "import matplotlib\n",
    "import matplotlib.pyplot as plt\n",
    "%matplotlib inline\n",
    "matplotlib.rc(\"font\",family='SimHei') # 中文字体\n",
    "plt.rcParams['axes.unicode_minus']=False  # 用来正常显示负号"
   ]
  },
  {
   "cell_type": "markdown",
   "id": "b9c89530-e9f9-43ae-945f-b33c3a1b258e",
   "metadata": {
    "tags": []
   },
   "source": [
    "### 准备图像分类数据集"
   ]
  },
  {
   "cell_type": "markdown",
   "id": "43b57568-86cf-4ae3-afd9-ae7f92d438fa",
   "metadata": {
    "tags": []
   },
   "source": [
    "#### 下载样例数据集"
   ]
  },
  {
   "cell_type": "code",
   "execution_count": 10,
   "id": "cafb45bd-2eef-4da5-b966-29369d13bd8a",
   "metadata": {},
   "outputs": [
    {
     "name": "stdout",
     "output_type": "stream",
     "text": [
      "--2023-01-23 23:32:56--  https://zihao-openmmlab.obs.cn-east-3.myhuaweicloud.com/20220716-mmclassification/dataset/fruit30/fruit30_split.zip\n",
      "正在连接 172.16.0.13:5848... 已连接。\n",
      "已发出 Proxy 请求，正在等待回应... 200 OK\n",
      "长度： 226278151 (216M) [application/zip]\n",
      "正在保存至: “fruit30_split.zip”\n",
      "\n",
      "fruit30_split.zip   100%[===================>] 215.79M  41.0MB/s    用时 5.6s    \n",
      "\n",
      "2023-01-23 23:33:02 (38.4 MB/s) - 已保存 “fruit30_split.zip” [226278151/226278151])\n",
      "\n"
     ]
    }
   ],
   "source": [
    "# 下载数据集压缩包\n",
    "!wget https://zihao-openmmlab.obs.cn-east-3.myhuaweicloud.com/20220716-mmclassification/dataset/fruit30/fruit30_split.zip"
   ]
  },
  {
   "cell_type": "code",
   "execution_count": 11,
   "id": "8ba9cfb8-eb46-4de3-928f-f0d52f26c79b",
   "metadata": {},
   "outputs": [],
   "source": [
    "# 解压\n",
    "!unzip fruit30_split.zip >> /dev/null"
   ]
  },
  {
   "cell_type": "code",
   "execution_count": 12,
   "id": "d51ea50c-a0dc-40f8-94f6-c360cd27cb8a",
   "metadata": {},
   "outputs": [],
   "source": [
    "# 删除压缩包\n",
    "!rm fruit30_split.zip"
   ]
  },
  {
   "cell_type": "markdown",
   "id": "ca4ff99c-b620-43ba-a94d-b11ecabb22cf",
   "metadata": {
    "tags": []
   },
   "source": [
    "#### 查看数据集目录结构"
   ]
  },
  {
   "cell_type": "code",
   "execution_count": 13,
   "id": "92125980-9f85-4f00-8534-35d11c35ee97",
   "metadata": {},
   "outputs": [
    {
     "name": "stdout",
     "output_type": "stream",
     "text": [
      "\u001b[0m\u001b[?25h\u001b[Ktree 1.8.0+pkg-3fd6 已从 林博仁(Buo-ren, Lin) (brlin\u001b[32m\u001b[0m) 安装      /27\u001b[0mms\u001b[?25l\n"
     ]
    }
   ],
   "source": [
    "!sudo snap install tree"
   ]
  },
  {
   "cell_type": "code",
   "execution_count": 14,
   "id": "43b1a367-6391-4314-a264-bb19e4da0cf5",
   "metadata": {},
   "outputs": [
    {
     "name": "stdout",
     "output_type": "stream",
     "text": [
      "locales-launch: Data of zh_CN locale not found, generating, please wait...\n",
      "\u001b[01;34mfruit30_split\u001b[00m\n",
      "├── \u001b[01;34mtrain\u001b[00m\n",
      "│   ├── \u001b[01;34m菠萝\u001b[00m\n",
      "│   ├── \u001b[01;34m草莓\u001b[00m\n",
      "│   ├── \u001b[01;34m车厘子\u001b[00m\n",
      "│   ├── \u001b[01;34m桂圆\u001b[00m\n",
      "│   ├── \u001b[01;34m哈密瓜\u001b[00m\n",
      "│   ├── \u001b[01;34m胡萝卜\u001b[00m\n",
      "│   ├── \u001b[01;34m黄瓜\u001b[00m\n",
      "│   ├── \u001b[01;34m火龙果\u001b[00m\n",
      "│   ├── \u001b[01;34m苦瓜\u001b[00m\n",
      "│   ├── \u001b[01;34m梨\u001b[00m\n",
      "│   ├── \u001b[01;34m荔枝\u001b[00m\n",
      "│   ├── \u001b[01;34m榴莲\u001b[00m\n",
      "│   ├── \u001b[01;34m芒果\u001b[00m\n",
      "│   ├── \u001b[01;34m猕猴桃\u001b[00m\n",
      "│   ├── \u001b[01;34m柠檬\u001b[00m\n",
      "│   ├── \u001b[01;34m苹果-红\u001b[00m\n",
      "│   ├── \u001b[01;34m苹果-青\u001b[00m\n",
      "│   ├── \u001b[01;34m葡萄-白\u001b[00m\n",
      "│   ├── \u001b[01;34m葡萄-红\u001b[00m\n",
      "│   ├── \u001b[01;34m脐橙\u001b[00m\n",
      "│   ├── \u001b[01;34m砂糖橘\u001b[00m\n",
      "│   ├── \u001b[01;34m山竹\u001b[00m\n",
      "│   ├── \u001b[01;34m圣女果\u001b[00m\n",
      "│   ├── \u001b[01;34m石榴\u001b[00m\n",
      "│   ├── \u001b[01;34m西瓜\u001b[00m\n",
      "│   ├── \u001b[01;34m西红柿\u001b[00m\n",
      "│   ├── \u001b[01;34m香蕉\u001b[00m\n",
      "│   ├── \u001b[01;34m杨梅\u001b[00m\n",
      "│   ├── \u001b[01;34m椰子\u001b[00m\n",
      "│   └── \u001b[01;34m柚子\u001b[00m\n",
      "└── \u001b[01;34mval\u001b[00m\n",
      "    ├── \u001b[01;34m菠萝\u001b[00m\n",
      "    ├── \u001b[01;34m草莓\u001b[00m\n",
      "    ├── \u001b[01;34m车厘子\u001b[00m\n",
      "    ├── \u001b[01;34m桂圆\u001b[00m\n",
      "    ├── \u001b[01;34m哈密瓜\u001b[00m\n",
      "    ├── \u001b[01;34m胡萝卜\u001b[00m\n",
      "    ├── \u001b[01;34m黄瓜\u001b[00m\n",
      "    ├── \u001b[01;34m火龙果\u001b[00m\n",
      "    ├── \u001b[01;34m苦瓜\u001b[00m\n",
      "    ├── \u001b[01;34m梨\u001b[00m\n",
      "    ├── \u001b[01;34m荔枝\u001b[00m\n",
      "    ├── \u001b[01;34m榴莲\u001b[00m\n",
      "    ├── \u001b[01;34m芒果\u001b[00m\n",
      "    ├── \u001b[01;34m猕猴桃\u001b[00m\n",
      "    ├── \u001b[01;34m柠檬\u001b[00m\n",
      "    ├── \u001b[01;34m苹果-红\u001b[00m\n",
      "    ├── \u001b[01;34m苹果-青\u001b[00m\n",
      "    ├── \u001b[01;34m葡萄-白\u001b[00m\n",
      "    ├── \u001b[01;34m葡萄-红\u001b[00m\n",
      "    ├── \u001b[01;34m脐橙\u001b[00m\n",
      "    ├── \u001b[01;34m砂糖橘\u001b[00m\n",
      "    ├── \u001b[01;34m山竹\u001b[00m\n",
      "    ├── \u001b[01;34m圣女果\u001b[00m\n",
      "    ├── \u001b[01;34m石榴\u001b[00m\n",
      "    ├── \u001b[01;34m西瓜\u001b[00m\n",
      "    ├── \u001b[01;34m西红柿\u001b[00m\n",
      "    ├── \u001b[01;34m香蕉\u001b[00m\n",
      "    ├── \u001b[01;34m杨梅\u001b[00m\n",
      "    ├── \u001b[01;34m椰子\u001b[00m\n",
      "    └── \u001b[01;34m柚子\u001b[00m\n",
      "\n",
      "62 directories, 0 files\n"
     ]
    }
   ],
   "source": [
    "!tree fruit30_split -L 2"
   ]
  },
  {
   "cell_type": "markdown",
   "id": "98d5648c-9440-4764-8860-e047c9dbf150",
   "metadata": {},
   "source": [
    "### 迁移学习微调训练图像分类模型"
   ]
  },
  {
   "cell_type": "markdown",
   "id": "91bbf7bf-2d3c-4899-94b4-1361b028b295",
   "metadata": {},
   "source": [
    "#### 导入工具包"
   ]
  },
  {
   "cell_type": "code",
   "execution_count": 3,
   "id": "a9bd2182-caf1-4d59-a48f-46ae000fbcc5",
   "metadata": {},
   "outputs": [],
   "source": [
    "import time\n",
    "import os\n",
    "from tqdm import tqdm\n",
    "\n",
    "import pandas as pd\n",
    "import numpy as np\n",
    "\n",
    "import torch\n",
    "import torchvision\n",
    "import torch.nn as nn\n",
    "import torch.nn.functional as F\n",
    "\n",
    "# 忽略烦人的红色提示\n",
    "import warnings\n",
    "warnings.filterwarnings(\"ignore\")"
   ]
  },
  {
   "cell_type": "markdown",
   "id": "0ffb86f0-57a3-4c4e-9d4e-887f5c69c617",
   "metadata": {},
   "source": [
    "#### 获取计算硬件"
   ]
  },
  {
   "cell_type": "code",
   "execution_count": 4,
   "id": "c51c925a-cdeb-413d-9f41-7aae5d26bed6",
   "metadata": {},
   "outputs": [
    {
     "name": "stdout",
     "output_type": "stream",
     "text": [
      "device cuda:0\n"
     ]
    }
   ],
   "source": [
    "# 有 GPU 就用 GPU，没有就用 CPU\n",
    "device = torch.device('cuda:0' if torch.cuda.is_available() else 'cpu')\n",
    "print('device', device)"
   ]
  },
  {
   "cell_type": "markdown",
   "id": "5033d4db-a4ec-4de4-a3ac-74766d43d840",
   "metadata": {},
   "source": [
    "#### 图像预处理"
   ]
  },
  {
   "cell_type": "code",
   "execution_count": 5,
   "id": "71e6a06e-cd99-4ae2-a0b7-1b2e018ca642",
   "metadata": {},
   "outputs": [],
   "source": [
    "from torchvision import transforms\n",
    "\n",
    "# 训练集图像预处理：缩放裁剪、图像增强、转 Tensor、归一化\n",
    "train_transform = transforms.Compose([transforms.RandomResizedCrop(224),\n",
    "                                      transforms.RandomHorizontalFlip(),\n",
    "                                      transforms.ToTensor(),\n",
    "                                      transforms.Normalize([0.485, 0.456, 0.406], [0.229, 0.224, 0.225])\n",
    "                                     ])\n",
    "\n",
    "# 测试集图像预处理-RCTN：缩放、裁剪、转 Tensor、归一化\n",
    "test_transform = transforms.Compose([transforms.Resize(256),\n",
    "                                     transforms.CenterCrop(224),\n",
    "                                     transforms.ToTensor(),\n",
    "                                     transforms.Normalize(\n",
    "                                         mean=[0.485, 0.456, 0.406], \n",
    "                                         std=[0.229, 0.224, 0.225])\n",
    "                                    ])"
   ]
  },
  {
   "cell_type": "markdown",
   "id": "bc34a1da-8565-49b8-b0f9-1b640f489681",
   "metadata": {},
   "source": [
    "#### 载入图像分类数据集"
   ]
  },
  {
   "cell_type": "code",
   "execution_count": 6,
   "id": "6f9ec968-2080-41b7-a1d7-25748b266ee4",
   "metadata": {},
   "outputs": [],
   "source": [
    "# 数据集文件夹路径\n",
    "dataset_dir = 'fruit30_split'"
   ]
  },
  {
   "cell_type": "code",
   "execution_count": 7,
   "id": "0460f39e-6f2f-415b-82f6-179c2a8acb66",
   "metadata": {},
   "outputs": [
    {
     "name": "stdout",
     "output_type": "stream",
     "text": [
      "训练集路径 fruit30_split/train\n",
      "测试集路径 fruit30_split/val\n"
     ]
    }
   ],
   "source": [
    "train_path = os.path.join(dataset_dir, 'train')\n",
    "test_path = os.path.join(dataset_dir, 'val')\n",
    "print('训练集路径', train_path)\n",
    "print('测试集路径', test_path)"
   ]
  },
  {
   "cell_type": "code",
   "execution_count": 8,
   "id": "97f666d3-4623-48d9-af24-1b5a275e78ca",
   "metadata": {},
   "outputs": [],
   "source": [
    "from torchvision import datasets\n",
    "\n",
    "# 载入训练集\n",
    "train_dataset = datasets.ImageFolder(train_path, train_transform)\n",
    "\n",
    "# 载入测试集\n",
    "test_dataset = datasets.ImageFolder(test_path, test_transform)"
   ]
  },
  {
   "cell_type": "code",
   "execution_count": 9,
   "id": "e8f8215b-5559-4191-85b2-d7910d647eb2",
   "metadata": {},
   "outputs": [
    {
     "name": "stdout",
     "output_type": "stream",
     "text": [
      "训练集图像数量 4375\n",
      "类别个数 30\n",
      "各类别名称 ['哈密瓜', '圣女果', '山竹', '杨梅', '柚子', '柠檬', '桂圆', '梨', '椰子', '榴莲', '火龙果', '猕猴桃', '石榴', '砂糖橘', '胡萝卜', '脐橙', '芒果', '苦瓜', '苹果-红', '苹果-青', '草莓', '荔枝', '菠萝', '葡萄-白', '葡萄-红', '西瓜', '西红柿', '车厘子', '香蕉', '黄瓜']\n"
     ]
    }
   ],
   "source": [
    "print('训练集图像数量', len(train_dataset))\n",
    "print('类别个数', len(train_dataset.classes))\n",
    "print('各类别名称', train_dataset.classes)"
   ]
  },
  {
   "cell_type": "code",
   "execution_count": 10,
   "id": "5e49f0bf-b072-4bfd-a9fe-7fec09f1b786",
   "metadata": {},
   "outputs": [
    {
     "name": "stdout",
     "output_type": "stream",
     "text": [
      "测试集图像数量 1078\n",
      "类别个数 30\n",
      "各类别名称 ['哈密瓜', '圣女果', '山竹', '杨梅', '柚子', '柠檬', '桂圆', '梨', '椰子', '榴莲', '火龙果', '猕猴桃', '石榴', '砂糖橘', '胡萝卜', '脐橙', '芒果', '苦瓜', '苹果-红', '苹果-青', '草莓', '荔枝', '菠萝', '葡萄-白', '葡萄-红', '西瓜', '西红柿', '车厘子', '香蕉', '黄瓜']\n"
     ]
    }
   ],
   "source": [
    "print('测试集图像数量', len(test_dataset))\n",
    "print('类别个数', len(test_dataset.classes))\n",
    "print('各类别名称', test_dataset.classes)"
   ]
  },
  {
   "cell_type": "markdown",
   "id": "0b177ce9-6a51-4d4e-8d70-194d4d081f4e",
   "metadata": {},
   "source": [
    "#### 类别和索引号 一一对应"
   ]
  },
  {
   "cell_type": "code",
   "execution_count": 11,
   "id": "70cd8894-78cb-4df8-8c4f-a81c705f0335",
   "metadata": {},
   "outputs": [],
   "source": [
    "# 各类别名称\n",
    "class_names = train_dataset.classes\n",
    "n_class = len(class_names)"
   ]
  },
  {
   "cell_type": "code",
   "execution_count": 12,
   "id": "aa3ab9cd-c504-49c8-b91e-a9d3a8162730",
   "metadata": {},
   "outputs": [
    {
     "data": {
      "text/plain": [
       "['哈密瓜',\n",
       " '圣女果',\n",
       " '山竹',\n",
       " '杨梅',\n",
       " '柚子',\n",
       " '柠檬',\n",
       " '桂圆',\n",
       " '梨',\n",
       " '椰子',\n",
       " '榴莲',\n",
       " '火龙果',\n",
       " '猕猴桃',\n",
       " '石榴',\n",
       " '砂糖橘',\n",
       " '胡萝卜',\n",
       " '脐橙',\n",
       " '芒果',\n",
       " '苦瓜',\n",
       " '苹果-红',\n",
       " '苹果-青',\n",
       " '草莓',\n",
       " '荔枝',\n",
       " '菠萝',\n",
       " '葡萄-白',\n",
       " '葡萄-红',\n",
       " '西瓜',\n",
       " '西红柿',\n",
       " '车厘子',\n",
       " '香蕉',\n",
       " '黄瓜']"
      ]
     },
     "execution_count": 12,
     "metadata": {},
     "output_type": "execute_result"
    }
   ],
   "source": [
    "class_names"
   ]
  },
  {
   "cell_type": "code",
   "execution_count": 13,
   "id": "9dedd4e6-fb8b-4ab9-9623-693b713e3f00",
   "metadata": {},
   "outputs": [
    {
     "data": {
      "text/plain": [
       "{'哈密瓜': 0,\n",
       " '圣女果': 1,\n",
       " '山竹': 2,\n",
       " '杨梅': 3,\n",
       " '柚子': 4,\n",
       " '柠檬': 5,\n",
       " '桂圆': 6,\n",
       " '梨': 7,\n",
       " '椰子': 8,\n",
       " '榴莲': 9,\n",
       " '火龙果': 10,\n",
       " '猕猴桃': 11,\n",
       " '石榴': 12,\n",
       " '砂糖橘': 13,\n",
       " '胡萝卜': 14,\n",
       " '脐橙': 15,\n",
       " '芒果': 16,\n",
       " '苦瓜': 17,\n",
       " '苹果-红': 18,\n",
       " '苹果-青': 19,\n",
       " '草莓': 20,\n",
       " '荔枝': 21,\n",
       " '菠萝': 22,\n",
       " '葡萄-白': 23,\n",
       " '葡萄-红': 24,\n",
       " '西瓜': 25,\n",
       " '西红柿': 26,\n",
       " '车厘子': 27,\n",
       " '香蕉': 28,\n",
       " '黄瓜': 29}"
      ]
     },
     "execution_count": 13,
     "metadata": {},
     "output_type": "execute_result"
    }
   ],
   "source": [
    "# 映射关系：类别 到 索引号\n",
    "train_dataset.class_to_idx"
   ]
  },
  {
   "cell_type": "code",
   "execution_count": 14,
   "id": "f6e5820d-d251-418b-af19-18d02b59c6ec",
   "metadata": {},
   "outputs": [],
   "source": [
    "# 映射关系：索引号 到 类别\n",
    "idx_to_labels = {y:x for x,y in train_dataset.class_to_idx.items()}"
   ]
  },
  {
   "cell_type": "code",
   "execution_count": 15,
   "id": "57cadc1e-9938-4331-9ce7-ddda909b115a",
   "metadata": {},
   "outputs": [
    {
     "data": {
      "text/plain": [
       "{0: '哈密瓜',\n",
       " 1: '圣女果',\n",
       " 2: '山竹',\n",
       " 3: '杨梅',\n",
       " 4: '柚子',\n",
       " 5: '柠檬',\n",
       " 6: '桂圆',\n",
       " 7: '梨',\n",
       " 8: '椰子',\n",
       " 9: '榴莲',\n",
       " 10: '火龙果',\n",
       " 11: '猕猴桃',\n",
       " 12: '石榴',\n",
       " 13: '砂糖橘',\n",
       " 14: '胡萝卜',\n",
       " 15: '脐橙',\n",
       " 16: '芒果',\n",
       " 17: '苦瓜',\n",
       " 18: '苹果-红',\n",
       " 19: '苹果-青',\n",
       " 20: '草莓',\n",
       " 21: '荔枝',\n",
       " 22: '菠萝',\n",
       " 23: '葡萄-白',\n",
       " 24: '葡萄-红',\n",
       " 25: '西瓜',\n",
       " 26: '西红柿',\n",
       " 27: '车厘子',\n",
       " 28: '香蕉',\n",
       " 29: '黄瓜'}"
      ]
     },
     "execution_count": 15,
     "metadata": {},
     "output_type": "execute_result"
    }
   ],
   "source": [
    "idx_to_labels"
   ]
  },
  {
   "cell_type": "code",
   "execution_count": 16,
   "id": "9ecb44dd-d09e-49e5-a843-8351b814226b",
   "metadata": {},
   "outputs": [],
   "source": [
    "# 保存为本地的 npy 文件\n",
    "np.save('idx_to_labels.npy', idx_to_labels)\n",
    "np.save('labels_to_idx.npy', train_dataset.class_to_idx)"
   ]
  },
  {
   "cell_type": "markdown",
   "id": "f0302a21-5d6b-4075-bc35-05ee3b2103f4",
   "metadata": {},
   "source": [
    "#### 定义数据加载器DataLoader"
   ]
  },
  {
   "cell_type": "code",
   "execution_count": 17,
   "id": "0c747bda-5ee5-416a-a165-8178a1a6f02e",
   "metadata": {},
   "outputs": [],
   "source": [
    "from torch.utils.data import DataLoader"
   ]
  },
  {
   "cell_type": "code",
   "execution_count": 18,
   "id": "e4ab443b-9e09-4431-86e7-3e6daed8a7c7",
   "metadata": {},
   "outputs": [],
   "source": [
    "BATCH_SIZE = 32\n",
    "\n",
    "# 训练集的数据加载器\n",
    "train_loader = DataLoader(train_dataset,\n",
    "                          batch_size=BATCH_SIZE,\n",
    "                          shuffle=True,\n",
    "                          num_workers=4\n",
    "                         )\n",
    "\n",
    "# 测试集的数据加载器\n",
    "test_loader = DataLoader(test_dataset,\n",
    "                         batch_size=BATCH_SIZE,\n",
    "                         shuffle=False,\n",
    "                         num_workers=4\n",
    "                        )"
   ]
  },
  {
   "cell_type": "markdown",
   "id": "97cf5870-923b-4682-a5d3-ad67127363cf",
   "metadata": {},
   "source": [
    "#### 查看一个batch的图像和标注"
   ]
  },
  {
   "cell_type": "code",
   "execution_count": 19,
   "id": "71ef63db-6115-43f8-a6fe-38aa843b2268",
   "metadata": {},
   "outputs": [],
   "source": [
    "# DataLoader 是 python生成器，每次调用返回一个 batch 的数据\n",
    "images, labels = next(iter(train_loader))"
   ]
  },
  {
   "cell_type": "code",
   "execution_count": 20,
   "id": "1eb2dba6-eb8f-4d9a-9fcc-93cb3cdf7c70",
   "metadata": {},
   "outputs": [
    {
     "data": {
      "text/plain": [
       "torch.Size([32, 3, 224, 224])"
      ]
     },
     "execution_count": 20,
     "metadata": {},
     "output_type": "execute_result"
    }
   ],
   "source": [
    "images.shape"
   ]
  },
  {
   "cell_type": "code",
   "execution_count": 21,
   "id": "c84a628f-6748-4ba0-9471-94aae31c8f6f",
   "metadata": {},
   "outputs": [
    {
     "data": {
      "text/plain": [
       "tensor([26,  0, 14,  4,  8, 27, 28, 27, 18, 19,  6, 11,  7, 21,  2,  2, 14, 24,\n",
       "        18,  0, 28, 24, 28, 26, 13,  3, 19, 27, 16,  0, 10,  8])"
      ]
     },
     "execution_count": 21,
     "metadata": {},
     "output_type": "execute_result"
    }
   ],
   "source": [
    "labels"
   ]
  },
  {
   "cell_type": "markdown",
   "id": "ffd53319-05ff-4600-9f22-f85cf02da579",
   "metadata": {},
   "source": [
    "#### 可视化一个batch的图像和标注"
   ]
  },
  {
   "cell_type": "code",
   "execution_count": 22,
   "id": "4e639aae-e4c3-4a73-9cc7-c564647f7295",
   "metadata": {},
   "outputs": [],
   "source": [
    "# 将数据集中的Tensor张量转为numpy的array数据类型\n",
    "images = images.numpy()"
   ]
  },
  {
   "cell_type": "code",
   "execution_count": 23,
   "id": "dd2deb28-931d-4e6c-91a6-a602f17a0e79",
   "metadata": {},
   "outputs": [
    {
     "data": {
      "text/plain": [
       "(3, 224, 224)"
      ]
     },
     "execution_count": 23,
     "metadata": {},
     "output_type": "execute_result"
    }
   ],
   "source": [
    "images[5].shape"
   ]
  },
  {
   "cell_type": "code",
   "execution_count": 24,
   "id": "49618b03-c39a-47f7-82e5-b284668c4f7c",
   "metadata": {},
   "outputs": [
    {
     "data": {
      "image/png": "[encoded data removed]",
      "text/plain": [
       "<Figure size 432x288 with 1 Axes>"
      ]
     },
     "metadata": {
      "needs_background": "light"
     },
     "output_type": "display_data"
    }
   ],
   "source": [
    "plt.hist(images[5].flatten(), bins=50)\n",
    "plt.show()"
   ]
  },
  {
   "cell_type": "code",
   "execution_count": 25,
   "id": "f801c794-ac47-4c57-b059-5393c8783ef4",
   "metadata": {},
   "outputs": [
    {
     "name": "stderr",
     "output_type": "stream",
     "text": [
      "Clipping input data to the valid range for imshow with RGB data ([0..1] for floats or [0..255] for integers).\n"
     ]
    },
    {
     "data": {
      "text/plain": [
       "Text(0.5, 1.0, 'label:14')"
      ]
     },
     "execution_count": 25,
     "metadata": {},
     "output_type": "execute_result"
    },
    {
     "data": {
      "image/png": "[encoded data removed]",
      "text/plain": [
       "<Figure size 432x288 with 1 Axes>"
      ]
     },
     "metadata": {
      "needs_background": "light"
     },
     "output_type": "display_data"
    }
   ],
   "source": [
    "# batch 中经过预处理的图像\n",
    "idx = 2\n",
    "plt.imshow(images[idx].transpose((1,2,0))) # 转为(224, 224, 3)\n",
    "plt.title('label:'+str(labels[idx].item()))"
   ]
  },
  {
   "cell_type": "code",
   "execution_count": 26,
   "id": "33e3e863-47b8-448e-a8de-f6cc7417f2a2",
   "metadata": {},
   "outputs": [],
   "source": [
    "label = labels[idx].item()"
   ]
  },
  {
   "cell_type": "code",
   "execution_count": 27,
   "id": "5e93be2d-8d25-4a15-9b92-e68f40b4bb23",
   "metadata": {},
   "outputs": [
    {
     "data": {
      "text/plain": [
       "14"
      ]
     },
     "execution_count": 27,
     "metadata": {},
     "output_type": "execute_result"
    }
   ],
   "source": [
    "label"
   ]
  },
  {
   "cell_type": "code",
   "execution_count": 28,
   "id": "6da94846-5db5-4097-8dbe-a8dad0ced50b",
   "metadata": {},
   "outputs": [],
   "source": [
    "pred_classname = idx_to_labels[label]"
   ]
  },
  {
   "cell_type": "code",
   "execution_count": 29,
   "id": "0c739604-6a74-4ec0-9742-0205d9734eea",
   "metadata": {},
   "outputs": [
    {
     "data": {
      "text/plain": [
       "'胡萝卜'"
      ]
     },
     "execution_count": 29,
     "metadata": {},
     "output_type": "execute_result"
    }
   ],
   "source": [
    "pred_classname"
   ]
  },
  {
   "cell_type": "code",
   "execution_count": 30,
   "id": "44b4a6ea-0968-4db2-b253-ff1691702230",
   "metadata": {},
   "outputs": [
    {
     "data": {
      "image/png": "[encoded data removed]",
      "text/plain": [
       "<Figure size 432x288 with 1 Axes>"
      ]
     },
     "metadata": {
      "needs_background": "light"
     },
     "output_type": "display_data"
    }
   ],
   "source": [
    "# 原始图像\n",
    "idx = 2\n",
    "mean = np.array([0.485, 0.456, 0.406])\n",
    "std = np.array([0.229, 0.224, 0.225])\n",
    "plt.imshow(np.clip(images[idx].transpose((1,2,0)) * std + mean, 0, 1))\n",
    "plt.title('label:'+ pred_classname)\n",
    "plt.show()"
   ]
  },
  {
   "cell_type": "markdown",
   "id": "3afe2ad4-670b-40ce-bfb1-e0f28d0be4d0",
   "metadata": {},
   "source": [
    "#### 导入训练需使用的工具包"
   ]
  },
  {
   "cell_type": "code",
   "execution_count": 47,
   "id": "49d756e2-6e8f-4fe8-a192-9039bd0e2581",
   "metadata": {},
   "outputs": [],
   "source": [
    "from torchvision import models\n",
    "import torch.optim as optim"
   ]
  },
  {
   "cell_type": "markdown",
   "id": "bb95161f-5811-445e-ab03-637ec55b18b0",
   "metadata": {
    "tags": []
   },
   "source": [
    "#### 选择迁移学习训练方式"
   ]
  },
  {
   "cell_type": "markdown",
   "id": "6a6f4ff5-d510-46ce-a882-2b3d00d6ceef",
   "metadata": {},
   "source": [
    "#### 选择一：只微调训练模型最后一层（全连接分类层）"
   ]
  },
  {
   "cell_type": "code",
   "execution_count": 48,
   "id": "37fc43ed-4f1c-4b3a-8eba-bfba0c23da58",
   "metadata": {},
   "outputs": [
    {
     "name": "stderr",
     "output_type": "stream",
     "text": [
      "Downloading: \"https://download.pytorch.org/models/resnet18-f37072fd.pth\" to /home/featurize/.cache/torch/hub/checkpoints/resnet18-f37072fd.pth\n"
     ]
    },
    {
     "data": {
      "application/vnd.jupyter.widget-view+json": {
       "model_id": "1cb4fc816d8142b381530cb53f06a110",
       "version_major": 2,
       "version_minor": 0
      },
      "text/plain": [
       "  0%|          | 0.00/44.7M [00:00<?, ?B/s]"
      ]
     },
     "metadata": {},
     "output_type": "display_data"
    }
   ],
   "source": [
    "model = models.resnet18(pretrained=True) # 载入预训练模型\n",
    "\n",
    "# 修改全连接层，使得全连接层的输出与当前数据集类别数对应\n",
    "# 新建的层默认 requires_grad=True\n",
    "model.fc = nn.Linear(model.fc.in_features, n_class)"
   ]
  },
  {
   "cell_type": "code",
   "execution_count": 49,
   "id": "a2c9fe45-25d7-496d-84a6-a598dfe878a0",
   "metadata": {},
   "outputs": [
    {
     "data": {
      "text/plain": [
       "Linear(in_features=512, out_features=30, bias=True)"
      ]
     },
     "execution_count": 49,
     "metadata": {},
     "output_type": "execute_result"
    }
   ],
   "source": [
    "model.fc"
   ]
  },
  {
   "cell_type": "code",
   "execution_count": 50,
   "id": "73e5547c-0ba9-43e1-a96e-b8eb1d2bdbf3",
   "metadata": {},
   "outputs": [],
   "source": [
    "# 只微调训练最后一层全连接层的参数，其它层冻结\n",
    "optimizer = optim.Adam(model.fc.parameters())"
   ]
  },
  {
   "cell_type": "markdown",
   "id": "cb2c845d-58dd-4d00-ba21-feff7b69066b",
   "metadata": {},
   "source": [
    "#### 训练配置"
   ]
  },
  {
   "cell_type": "code",
   "execution_count": 51,
   "id": "dc7145ea-89dc-4c46-b087-af3005d738ea",
   "metadata": {},
   "outputs": [],
   "source": [
    "model = model.to(device)\n",
    "\n",
    "# 交叉熵损失函数\n",
    "criterion = nn.CrossEntropyLoss() \n",
    "\n",
    "# 训练轮次 Epoch\n",
    "EPOCHS = 20"
   ]
  },
  {
   "cell_type": "markdown",
   "id": "5cf61b79-7038-408b-aa56-96185f645276",
   "metadata": {},
   "source": [
    "#### 运行完整训练"
   ]
  },
  {
   "cell_type": "code",
   "execution_count": 60,
   "id": "d217431f-15e1-459b-b224-2e3f1fc5265b",
   "metadata": {},
   "outputs": [
    {
     "name": "stderr",
     "output_type": "stream",
     "text": [
      "100%|██████████| 20/20 [03:05<00:00,  9.29s/it]\n"
     ]
    }
   ],
   "source": [
    "# 遍历每个 EPOCH\n",
    "for epoch in tqdm(range(EPOCHS)):\n",
    "\n",
    "    model.train()\n",
    "\n",
    "    for images, labels in train_loader:  # 获得一个 batch 的数据和标注\n",
    "        images = images.to(device)\n",
    "        labels = labels.to(device)\n",
    "\n",
    "        # 输入模型，执行前向预测\n",
    "        outputs = model(images)\n",
    "        loss = criterion(outputs, labels) # 由 logit，计算当前 batch 中，每个样本的平均交叉熵损失函数值\n",
    "        \n",
    "        # 反向传播“三部曲”\n",
    "        optimizer.zero_grad() # 清除梯度\n",
    "        loss.backward() # 反向传播\n",
    "        optimizer.step() # 优化更新"
   ]
  },
  {
   "cell_type": "markdown",
   "id": "38bce96f-408c-45ff-b2e3-15e413708ffa",
   "metadata": {},
   "source": [
    "#### 在测试集上初步测试"
   ]
  },
  {
   "cell_type": "code",
   "execution_count": 61,
   "id": "903f8fdb-1bc7-4834-9df5-13f3e1d74848",
   "metadata": {},
   "outputs": [
    {
     "name": "stderr",
     "output_type": "stream",
     "text": [
      "100%|██████████| 34/34 [00:02<00:00, 12.20it/s]"
     ]
    },
    {
     "name": "stdout",
     "output_type": "stream",
     "text": [
      "测试集上的准确率为 87.013 %\n"
     ]
    },
    {
     "name": "stderr",
     "output_type": "stream",
     "text": [
      "\n"
     ]
    }
   ],
   "source": [
    "model.eval()\n",
    "with torch.no_grad():\n",
    "    correct = 0\n",
    "    total = 0\n",
    "    for images, labels in tqdm(test_loader):\n",
    "        images = images.to(device)\n",
    "        labels = labels.to(device)\n",
    "        outputs = model(images)\n",
    "        _, preds = torch.max(outputs, 1)\n",
    "        total += labels.size(0)\n",
    "        correct += (preds == labels).sum()\n",
    "\n",
    "    print('测试集上的准确率为 {:.3f} %'.format(100 * correct / total))"
   ]
  },
  {
   "cell_type": "markdown",
   "id": "e859b7d7-cd0a-45d0-9c13-2c28f681b502",
   "metadata": {},
   "source": [
    "#### 保存模型"
   ]
  },
  {
   "cell_type": "code",
   "execution_count": 62,
   "id": "3edc4dcb-538d-4fcd-ac33-a2141e52f3b8",
   "metadata": {},
   "outputs": [],
   "source": [
    "torch.save(model, 'checkpoints/fruit30_pytorch_20220814.pth')"
   ]
  },
  {
   "cell_type": "markdown",
   "id": "95b5bf73-1125-41b4-b458-3c4974f7e92a",
   "metadata": {},
   "source": [
    "#### 选择二：微调训练所有层"
   ]
  },
  {
   "cell_type": "code",
   "execution_count": 65,
   "id": "fec314e9-16a6-4386-8fd2-f60782e85903",
   "metadata": {},
   "outputs": [],
   "source": [
    "model = models.resnet18(pretrained=True) # 载入预训练模型\n",
    "\n",
    "model.fc = nn.Linear(model.fc.in_features, n_class)\n",
    "\n",
    "optimizer = optim.Adam(model.parameters())"
   ]
  },
  {
   "cell_type": "code",
   "execution_count": 66,
   "id": "1b993415-365c-4e4f-9772-3e7bdb2004a4",
   "metadata": {},
   "outputs": [],
   "source": [
    "model = model.to(device)\n",
    "\n",
    "# 交叉熵损失函数\n",
    "criterion = nn.CrossEntropyLoss() \n",
    "\n",
    "# 训练轮次 Epoch\n",
    "EPOCHS = 20"
   ]
  },
  {
   "cell_type": "code",
   "execution_count": 67,
   "id": "a07c6352-4671-4b18-a23b-c79ebe9d2eca",
   "metadata": {},
   "outputs": [
    {
     "name": "stderr",
     "output_type": "stream",
     "text": [
      "100%|██████████| 20/20 [03:17<00:00,  9.87s/it]\n"
     ]
    }
   ],
   "source": [
    "# 遍历每个 EPOCH\n",
    "for epoch in tqdm(range(EPOCHS)):\n",
    "\n",
    "    model.train()\n",
    "\n",
    "    for images, labels in train_loader:  # 获得一个 batch 的数据和标注\n",
    "        images = images.to(device)\n",
    "        labels = labels.to(device)\n",
    "\n",
    "        # 输入模型，执行前向预测\n",
    "        outputs = model(images)\n",
    "        loss = criterion(outputs, labels) # 由 logit，计算当前 batch 中，每个样本的平均交叉熵损失函数值\n",
    "        \n",
    "        # 反向传播“三部曲”\n",
    "        optimizer.zero_grad() # 清除梯度\n",
    "        loss.backward() # 反向传播\n",
    "        optimizer.step() # 优化更新"
   ]
  },
  {
   "cell_type": "code",
   "execution_count": 68,
   "id": "cb55df2a-4150-4cfb-894a-cd90c3e27ebe",
   "metadata": {},
   "outputs": [
    {
     "name": "stderr",
     "output_type": "stream",
     "text": [
      "100%|██████████| 34/34 [00:02<00:00, 11.67it/s]"
     ]
    },
    {
     "name": "stdout",
     "output_type": "stream",
     "text": [
      "测试集上的准确率为 79.963 %\n"
     ]
    },
    {
     "name": "stderr",
     "output_type": "stream",
     "text": [
      "\n"
     ]
    }
   ],
   "source": [
    "model.eval()\n",
    "with torch.no_grad():\n",
    "    correct = 0\n",
    "    total = 0\n",
    "    for images, labels in tqdm(test_loader):\n",
    "        images = images.to(device)\n",
    "        labels = labels.to(device)\n",
    "        outputs = model(images)\n",
    "        _, preds = torch.max(outputs, 1)\n",
    "        total += labels.size(0)\n",
    "        correct += (preds == labels).sum()\n",
    "\n",
    "    print('测试集上的准确率为 {:.3f} %'.format(100 * correct / total))"
   ]
  },
  {
   "cell_type": "markdown",
   "id": "42c38a50-ef77-4fdf-8433-5b2a5d6a4893",
   "metadata": {},
   "source": [
    "#### 选择三：随机初始化模型全部权重，从头训练所有层"
   ]
  },
  {
   "cell_type": "code",
   "execution_count": 69,
   "id": "f6fabc0e-1e3f-4a49-be3f-3b8108605273",
   "metadata": {},
   "outputs": [],
   "source": [
    "model = models.resnet18(pretrained=False) # 只载入模型结构，不载入预训练权重参数\n",
    "\n",
    "model.fc = nn.Linear(model.fc.in_features, n_class)\n",
    "\n",
    "optimizer = optim.Adam(model.parameters())"
   ]
  },
  {
   "cell_type": "code",
   "execution_count": 70,
   "id": "47f691ca-2f09-48b7-8c29-5501103d26b2",
   "metadata": {},
   "outputs": [],
   "source": [
    "model = model.to(device)\n",
    "\n",
    "# 交叉熵损失函数\n",
    "criterion = nn.CrossEntropyLoss() \n",
    "\n",
    "# 训练轮次 Epoch\n",
    "EPOCHS = 20"
   ]
  },
  {
   "cell_type": "code",
   "execution_count": 71,
   "id": "13e6fab6-ef31-47bd-8a94-49b442e8a7bd",
   "metadata": {},
   "outputs": [
    {
     "name": "stderr",
     "output_type": "stream",
     "text": [
      "100%|██████████| 20/20 [03:16<00:00,  9.80s/it]\n"
     ]
    }
   ],
   "source": [
    "# 遍历每个 EPOCH\n",
    "for epoch in tqdm(range(EPOCHS)):\n",
    "\n",
    "    model.train()\n",
    "\n",
    "    for images, labels in train_loader:  # 获得一个 batch 的数据和标注\n",
    "        images = images.to(device)\n",
    "        labels = labels.to(device)\n",
    "\n",
    "        # 输入模型，执行前向预测\n",
    "        outputs = model(images)\n",
    "        loss = criterion(outputs, labels) # 由 logit，计算当前 batch 中，每个样本的平均交叉熵损失函数值\n",
    "        \n",
    "        # 反向传播“三部曲”\n",
    "        optimizer.zero_grad() # 清除梯度\n",
    "        loss.backward() # 反向传播\n",
    "        optimizer.step() # 优化更新"
   ]
  },
  {
   "cell_type": "code",
   "execution_count": 72,
   "id": "eb4e3431-2c01-4f2f-8dbe-591388abda99",
   "metadata": {},
   "outputs": [
    {
     "name": "stderr",
     "output_type": "stream",
     "text": [
      "100%|██████████| 34/34 [00:02<00:00, 11.88it/s]"
     ]
    },
    {
     "name": "stdout",
     "output_type": "stream",
     "text": [
      "测试集上的准确率为 53.525 %\n"
     ]
    },
    {
     "name": "stderr",
     "output_type": "stream",
     "text": [
      "\n"
     ]
    }
   ],
   "source": [
    "model.eval()\n",
    "with torch.no_grad():\n",
    "    correct = 0\n",
    "    total = 0\n",
    "    for images, labels in tqdm(test_loader):\n",
    "        images = images.to(device)\n",
    "        labels = labels.to(device)\n",
    "        outputs = model(images)\n",
    "        _, preds = torch.max(outputs, 1)\n",
    "        total += labels.size(0)\n",
    "        correct += (preds == labels).sum()\n",
    "\n",
    "    print('测试集上的准确率为 {:.3f} %'.format(100 * correct / total))"
   ]
  },
  {
   "cell_type": "markdown",
   "id": "0f884f20-505f-4250-99f0-a9d5bd954d2c",
   "metadata": {},
   "source": [
    "### 迁移学习微调训练图像分类模型"
   ]
  },
  {
   "cell_type": "code",
   "execution_count": 73,
   "id": "9dd24566-352f-4716-95db-4f20af6fab08",
   "metadata": {},
   "outputs": [],
   "source": [
    "from torchvision import models\n",
    "import torch.optim as optim\n",
    "from torch.optim import lr_scheduler"
   ]
  },
  {
   "cell_type": "markdown",
   "id": "8d76892d-da68-4227-ba7a-484b6f94bb86",
   "metadata": {},
   "source": [
    "#### 训练配置"
   ]
  },
  {
   "cell_type": "code",
   "execution_count": 74,
   "id": "60829656-34b3-41e3-ac3a-b795a526338a",
   "metadata": {},
   "outputs": [],
   "source": [
    "model = model.to(device)\n",
    "\n",
    "# 交叉熵损失函数\n",
    "criterion = nn.CrossEntropyLoss() \n",
    "\n",
    "# 训练轮次 Epoch\n",
    "EPOCHS = 30\n",
    "\n",
    "# 学习率降低策略\n",
    "lr_scheduler = lr_scheduler.StepLR(optimizer, step_size=5, gamma=0.5)"
   ]
  },
  {
   "cell_type": "markdown",
   "id": "072703a8-c177-4638-b4c4-755dc6108a80",
   "metadata": {},
   "source": [
    "### 函数：在训练集上训练"
   ]
  },
  {
   "cell_type": "code",
   "execution_count": 75,
   "id": "f7d96df7-54de-45fd-a934-8e1d1632000d",
   "metadata": {},
   "outputs": [],
   "source": [
    "from sklearn.metrics import precision_score\n",
    "from sklearn.metrics import recall_score\n",
    "from sklearn.metrics import accuracy_score\n",
    "from sklearn.metrics import f1_score\n",
    "from sklearn.metrics import roc_auc_score"
   ]
  },
  {
   "cell_type": "code",
   "execution_count": 76,
   "id": "d7b7ba21-7a0b-48e2-bca1-826609700442",
   "metadata": {},
   "outputs": [],
   "source": [
    "def train_one_batch(images, labels):\n",
    "    '''\n",
    "    运行一个 batch 的训练，返回当前 batch 的训练日志\n",
    "    '''\n",
    "    \n",
    "    # 获得一个 batch 的数据和标注\n",
    "    images = images.to(device)\n",
    "    labels = labels.to(device)\n",
    "    \n",
    "    outputs = model(images) # 输入模型，执行前向预测\n",
    "    loss = criterion(outputs, labels) # 计算当前 batch 中，每个样本的平均交叉熵损失函数值\n",
    "    \n",
    "    # 优化更新权重\n",
    "    optimizer.zero_grad()\n",
    "    loss.backward()\n",
    "    optimizer.step()\n",
    "    \n",
    "    # 获取当前 batch 的标签类别和预测类别\n",
    "    _, preds = torch.max(outputs, 1) # 获得当前 batch 所有图像的预测类别\n",
    "    preds = preds.cpu().numpy()\n",
    "    loss = loss.detach().cpu().numpy()\n",
    "    outputs = outputs.detach().cpu().numpy()\n",
    "    labels = labels.detach().cpu().numpy()\n",
    "    \n",
    "    log_train = {}\n",
    "    log_train['epoch'] = epoch\n",
    "    log_train['batch'] = batch_idx\n",
    "    # 计算分类评估指标\n",
    "    log_train['train_loss'] = loss\n",
    "    log_train['train_accuracy'] = accuracy_score(labels, preds)\n",
    "    # log_train['train_precision'] = precision_score(labels, preds, average='macro')\n",
    "    # log_train['train_recall'] = recall_score(labels, preds, average='macro')\n",
    "    # log_train['train_f1-score'] = f1_score(labels, preds, average='macro')\n",
    "    \n",
    "    return log_train"
   ]
  },
  {
   "cell_type": "markdown",
   "id": "4e4b4e1f-3f2a-4ef0-a218-b39a04df9968",
   "metadata": {},
   "source": [
    "#### 函数：在整个测试集上评估"
   ]
  },
  {
   "cell_type": "code",
   "execution_count": 77,
   "id": "3ce81d67-f251-4fd0-b71a-c83ccffb2090",
   "metadata": {},
   "outputs": [],
   "source": [
    "def evaluate_testset():\n",
    "    '''\n",
    "    在整个测试集上评估，返回分类评估指标日志\n",
    "    '''\n",
    "\n",
    "    loss_list = []\n",
    "    labels_list = []\n",
    "    preds_list = []\n",
    "    \n",
    "    with torch.no_grad():\n",
    "        for images, labels in test_loader: # 生成一个 batch 的数据和标注\n",
    "            images = images.to(device)\n",
    "            labels = labels.to(device)\n",
    "            outputs = model(images) # 输入模型，执行前向预测\n",
    "\n",
    "            # 获取整个测试集的标签类别和预测类别\n",
    "            _, preds = torch.max(outputs, 1) # 获得当前 batch 所有图像的预测类别\n",
    "            preds = preds.cpu().numpy()\n",
    "            loss = criterion(outputs, labels) # 由 logit，计算当前 batch 中，每个样本的平均交叉熵损失函数值\n",
    "            loss = loss.detach().cpu().numpy()\n",
    "            outputs = outputs.detach().cpu().numpy()\n",
    "            labels = labels.detach().cpu().numpy()\n",
    "\n",
    "            loss_list.append(loss)\n",
    "            labels_list.extend(labels)\n",
    "            preds_list.extend(preds)\n",
    "        \n",
    "    log_test = {}\n",
    "    log_test['epoch'] = epoch\n",
    "    \n",
    "    # 计算分类评估指标\n",
    "    log_test['test_loss'] = np.mean(loss)\n",
    "    log_test['test_accuracy'] = accuracy_score(labels_list, preds_list)\n",
    "    log_test['test_precision'] = precision_score(labels_list, preds_list, average='macro')\n",
    "    log_test['test_recall'] = recall_score(labels_list, preds_list, average='macro')\n",
    "    log_test['test_f1-score'] = f1_score(labels_list, preds_list, average='macro')\n",
    "    \n",
    "    return log_test"
   ]
  },
  {
   "cell_type": "markdown",
   "id": "b78a6d68-6a1a-4640-ae54-1a9f59d6a3a4",
   "metadata": {},
   "source": [
    "#### 训练开始之前，记录日志"
   ]
  },
  {
   "cell_type": "code",
   "execution_count": 78,
   "id": "bfd5c170-c149-4078-b44f-415fd22dcd25",
   "metadata": {},
   "outputs": [],
   "source": [
    "epoch = 0\n",
    "batch_idx = 0\n",
    "best_test_accuracy = 0"
   ]
  },
  {
   "cell_type": "code",
   "execution_count": 81,
   "id": "2adc9587-08e1-46aa-9c9c-6eb30e4db814",
   "metadata": {},
   "outputs": [],
   "source": [
    "# 训练日志-训练集\n",
    "df_train_log = pd.DataFrame()\n",
    "log_train = {}\n",
    "log_train['epoch'] = 0\n",
    "log_train['batch'] = 0\n",
    "images, labels = next(iter(train_loader))\n",
    "log_train.update(train_one_batch(images, labels))\n",
    "df_train_log = df_train_log.append(log_train, ignore_index=True)"
   ]
  },
  {
   "cell_type": "code",
   "execution_count": 82,
   "id": "e4b7bb18-e414-4d82-bfe7-f8263110fde4",
   "metadata": {},
   "outputs": [
    {
     "data": {
      "text/html": [
       "<div>\n",
       "<style scoped>\n",
       "    .dataframe tbody tr th:only-of-type {\n",
       "        vertical-align: middle;\n",
       "    }\n",
       "\n",
       "    .dataframe tbody tr th {\n",
       "        vertical-align: top;\n",
       "    }\n",
       "\n",
       "    .dataframe thead th {\n",
       "        text-align: right;\n",
       "    }\n",
       "</style>\n",
       "<table border=\"1\" class=\"dataframe\">\n",
       "  <thead>\n",
       "    <tr style=\"text-align: right;\">\n",
       "      <th></th>\n",
       "      <th>epoch</th>\n",
       "      <th>batch</th>\n",
       "      <th>train_loss</th>\n",
       "      <th>train_accuracy</th>\n",
       "    </tr>\n",
       "  </thead>\n",
       "  <tbody>\n",
       "    <tr>\n",
       "      <th>0</th>\n",
       "      <td>0.0</td>\n",
       "      <td>0.0</td>\n",
       "      <td>1.6126513</td>\n",
       "      <td>0.53125</td>\n",
       "    </tr>\n",
       "  </tbody>\n",
       "</table>\n",
       "</div>"
      ],
      "text/plain": [
       "   epoch  batch train_loss  train_accuracy\n",
       "0    0.0    0.0  1.6126513         0.53125"
      ]
     },
     "execution_count": 82,
     "metadata": {},
     "output_type": "execute_result"
    }
   ],
   "source": [
    "df_train_log"
   ]
  },
  {
   "cell_type": "code",
   "execution_count": 83,
   "id": "5dfacc59-e50a-4b92-a0be-fa98fd4d2938",
   "metadata": {},
   "outputs": [],
   "source": [
    "# 训练日志-测试集\n",
    "df_test_log = pd.DataFrame()\n",
    "log_test = {}\n",
    "log_test['epoch'] = 0\n",
    "log_test.update(evaluate_testset())\n",
    "df_test_log = df_test_log.append(log_test, ignore_index=True)"
   ]
  },
  {
   "cell_type": "code",
   "execution_count": 84,
   "id": "4b92f725-ce73-4d3f-85b3-28fe2abd9ccf",
   "metadata": {},
   "outputs": [
    {
     "data": {
      "text/html": [
       "<div>\n",
       "<style scoped>\n",
       "    .dataframe tbody tr th:only-of-type {\n",
       "        vertical-align: middle;\n",
       "    }\n",
       "\n",
       "    .dataframe tbody tr th {\n",
       "        vertical-align: top;\n",
       "    }\n",
       "\n",
       "    .dataframe thead th {\n",
       "        text-align: right;\n",
       "    }\n",
       "</style>\n",
       "<table border=\"1\" class=\"dataframe\">\n",
       "  <thead>\n",
       "    <tr style=\"text-align: right;\">\n",
       "      <th></th>\n",
       "      <th>epoch</th>\n",
       "      <th>test_loss</th>\n",
       "      <th>test_accuracy</th>\n",
       "      <th>test_precision</th>\n",
       "      <th>test_recall</th>\n",
       "      <th>test_f1-score</th>\n",
       "    </tr>\n",
       "  </thead>\n",
       "  <tbody>\n",
       "    <tr>\n",
       "      <th>0</th>\n",
       "      <td>0.0</td>\n",
       "      <td>1.391301</td>\n",
       "      <td>0.503711</td>\n",
       "      <td>0.57268</td>\n",
       "      <td>0.50388</td>\n",
       "      <td>0.484875</td>\n",
       "    </tr>\n",
       "  </tbody>\n",
       "</table>\n",
       "</div>"
      ],
      "text/plain": [
       "   epoch  test_loss  test_accuracy  test_precision  test_recall  test_f1-score\n",
       "0    0.0   1.391301       0.503711         0.57268      0.50388       0.484875"
      ]
     },
     "execution_count": 84,
     "metadata": {},
     "output_type": "execute_result"
    }
   ],
   "source": [
    "df_test_log"
   ]
  },
  {
   "cell_type": "markdown",
   "id": "9739c522-2f06-41ce-b5dd-a7ec3ab88a02",
   "metadata": {},
   "source": [
    "### 登录wandb\n",
    "\n",
    "1.安装 wandb：pip install wandb\n",
    "\n",
    "2.登录 wandb：在命令行中运行wandb login\n",
    "\n",
    "3.按提示复制粘贴API Key至命令行中"
   ]
  },
  {
   "cell_type": "code",
   "execution_count": 85,
   "id": "a4c72336-a5b1-4ee1-a01e-121bbcf04600",
   "metadata": {},
   "outputs": [
    {
     "name": "stdout",
     "output_type": "stream",
     "text": [
      "Looking in indexes: https://pypi.tuna.tsinghua.edu.cn/simple\n",
      "Requirement already satisfied: wandb in /environment/miniconda3/lib/python3.7/site-packages (0.13.9)\n",
      "Requirement already satisfied: requests<3,>=2.0.0 in /environment/miniconda3/lib/python3.7/site-packages (from wandb) (2.24.0)\n",
      "Requirement already satisfied: setproctitle in /environment/miniconda3/lib/python3.7/site-packages (from wandb) (1.3.2)\n",
      "Requirement already satisfied: typing-extensions in /environment/miniconda3/lib/python3.7/site-packages (from wandb) (4.0.1)\n",
      "Requirement already satisfied: appdirs>=1.4.3 in /environment/miniconda3/lib/python3.7/site-packages (from wandb) (1.4.4)\n",
      "Requirement already satisfied: GitPython>=1.0.0 in /environment/miniconda3/lib/python3.7/site-packages (from wandb) (3.1.30)\n",
      "Requirement already satisfied: protobuf!=4.21.0,<5,>=3.12.0 in /environment/miniconda3/lib/python3.7/site-packages (from wandb) (3.19.1)\n",
      "Requirement already satisfied: docker-pycreds>=0.4.0 in /environment/miniconda3/lib/python3.7/site-packages (from wandb) (0.4.0)\n",
      "Requirement already satisfied: PyYAML in /environment/miniconda3/lib/python3.7/site-packages (from wandb) (6.0)\n",
      "Requirement already satisfied: pathtools in /environment/miniconda3/lib/python3.7/site-packages (from wandb) (0.1.2)\n",
      "Requirement already satisfied: sentry-sdk>=1.0.0 in /environment/miniconda3/lib/python3.7/site-packages (from wandb) (1.9.0)\n",
      "Requirement already satisfied: Click!=8.0.0,>=7.0 in /environment/miniconda3/lib/python3.7/site-packages (from wandb) (7.1.2)\n",
      "Requirement already satisfied: setuptools in /environment/miniconda3/lib/python3.7/site-packages (from wandb) (52.0.0.post20210125)\n",
      "Requirement already satisfied: psutil>=5.0.0 in /environment/miniconda3/lib/python3.7/site-packages (from wandb) (5.9.4)\n",
      "Requirement already satisfied: six>=1.4.0 in /environment/miniconda3/lib/python3.7/site-packages (from docker-pycreds>=0.4.0->wandb) (1.16.0)\n",
      "Requirement already satisfied: gitdb<5,>=4.0.1 in /environment/miniconda3/lib/python3.7/site-packages (from GitPython>=1.0.0->wandb) (4.0.10)\n",
      "Requirement already satisfied: smmap<6,>=3.0.1 in /environment/miniconda3/lib/python3.7/site-packages (from gitdb<5,>=4.0.1->GitPython>=1.0.0->wandb) (5.0.0)\n",
      "Requirement already satisfied: urllib3!=1.25.0,!=1.25.1,<1.26,>=1.21.1 in /environment/miniconda3/lib/python3.7/site-packages (from requests<3,>=2.0.0->wandb) (1.25.11)\n",
      "Requirement already satisfied: chardet<4,>=3.0.2 in /environment/miniconda3/lib/python3.7/site-packages (from requests<3,>=2.0.0->wandb) (3.0.4)\n",
      "Requirement already satisfied: certifi>=2017.4.17 in /environment/miniconda3/lib/python3.7/site-packages (from requests<3,>=2.0.0->wandb) (2021.5.30)\n",
      "Requirement already satisfied: idna<3,>=2.5 in /environment/miniconda3/lib/python3.7/site-packages (from requests<3,>=2.0.0->wandb) (2.10)\n",
      "Note: you may need to restart the kernel to use updated packages.\n"
     ]
    }
   ],
   "source": [
    "pip install wandb"
   ]
  },
  {
   "cell_type": "code",
   "execution_count": 86,
   "id": "f45a07db-8ec5-4248-8574-d3b74a4f0586",
   "metadata": {},
   "outputs": [
    {
     "name": "stderr",
     "output_type": "stream",
     "text": [
      "\u001b[34m\u001b[1mwandb\u001b[0m: \u001b[33mWARNING\u001b[0m Path /home/featurize/work/wandb/ wasn't writable, using system temp directory.\n",
      "Failed to detect the name of this notebook, you can set it manually with the WANDB_NOTEBOOK_NAME environment variable to enable code saving.\n",
      "wandb: WARNING Path /home/featurize/work/wandb/ wasn't writable, using system temp directory\n",
      "\u001b[34m\u001b[1mwandb\u001b[0m: \u001b[33mWARNING\u001b[0m Path /home/featurize/work/wandb/ wasn't writable, using system temp directory\n",
      "\u001b[34m\u001b[1mwandb\u001b[0m: Currently logged in as: \u001b[33mdcrainsailing\u001b[0m. Use \u001b[1m`wandb login --relogin`\u001b[0m to force relogin\n"
     ]
    },
    {
     "data": {
      "text/html": [
       "Tracking run with wandb version 0.13.9"
      ],
      "text/plain": [
       "<IPython.core.display.HTML object>"
      ]
     },
     "metadata": {},
     "output_type": "display_data"
    },
    {
     "data": {
      "text/html": [
       "Run data is saved locally in <code>/tmp/wandb/run-20230124_001530-qy5u8jlq</code>"
      ],
      "text/plain": [
       "<IPython.core.display.HTML object>"
      ]
     },
     "metadata": {},
     "output_type": "display_data"
    },
    {
     "data": {
      "text/html": [
       "Syncing run <strong><a href=\"https://wandb.ai/dcrainsailing/fruit30/runs/qy5u8jlq\" target=\"_blank\">0124001528</a></strong> to <a href=\"https://wandb.ai/dcrainsailing/fruit30\" target=\"_blank\">Weights & Biases</a> (<a href=\"https://wandb.me/run\" target=\"_blank\">docs</a>)<br/>"
      ],
      "text/plain": [
       "<IPython.core.display.HTML object>"
      ]
     },
     "metadata": {},
     "output_type": "display_data"
    },
    {
     "data": {
      "text/html": [
       " View project at <a href=\"https://wandb.ai/dcrainsailing/fruit30\" target=\"_blank\">https://wandb.ai/dcrainsailing/fruit30</a>"
      ],
      "text/plain": [
       "<IPython.core.display.HTML object>"
      ]
     },
     "metadata": {},
     "output_type": "display_data"
    },
    {
     "data": {
      "text/html": [
       " View run at <a href=\"https://wandb.ai/dcrainsailing/fruit30/runs/qy5u8jlq\" target=\"_blank\">https://wandb.ai/dcrainsailing/fruit30/runs/qy5u8jlq</a>"
      ],
      "text/plain": [
       "<IPython.core.display.HTML object>"
      ]
     },
     "metadata": {},
     "output_type": "display_data"
    },
    {
     "data": {
      "text/html": [
       "<button onClick=\"this.nextSibling.style.display='block';this.style.display='none';\">Display W&B run</button><iframe src=\"https://wandb.ai/dcrainsailing/fruit30/runs/qy5u8jlq?jupyter=true\" style=\"border:none;width:100%;height:420px;display:none;\"></iframe>"
      ],
      "text/plain": [
       "<wandb.sdk.wandb_run.Run at 0x7f6748ad58d0>"
      ]
     },
     "execution_count": 86,
     "metadata": {},
     "output_type": "execute_result"
    }
   ],
   "source": [
    "import wandb\n",
    "\n",
    "wandb.init(project='fruit30', name=time.strftime('%m%d%H%M%S'))"
   ]
  },
  {
   "cell_type": "markdown",
   "id": "35feb3e2-d7f7-4a85-b66e-8f9a6526cff7",
   "metadata": {},
   "source": [
    "#### 运行训练"
   ]
  },
  {
   "cell_type": "code",
   "execution_count": 87,
   "id": "cf0406f4-81c2-4cfa-aa0e-e890206d275d",
   "metadata": {},
   "outputs": [
    {
     "name": "stdout",
     "output_type": "stream",
     "text": [
      "Epoch 1/30\n"
     ]
    },
    {
     "name": "stderr",
     "output_type": "stream",
     "text": [
      "100%|██████████| 137/137 [00:10<00:00, 12.64it/s]\n"
     ]
    },
    {
     "name": "stdout",
     "output_type": "stream",
     "text": [
      "保存新的最佳模型 checkpoints/best-0.000.pth\n",
      "Epoch 2/30\n"
     ]
    },
    {
     "name": "stderr",
     "output_type": "stream",
     "text": [
      "100%|██████████| 137/137 [00:10<00:00, 12.46it/s]\n"
     ]
    },
    {
     "name": "stdout",
     "output_type": "stream",
     "text": [
      "保存新的最佳模型 checkpoints/best-0.563.pth\n",
      "Epoch 3/30\n"
     ]
    },
    {
     "name": "stderr",
     "output_type": "stream",
     "text": [
      "100%|██████████| 137/137 [00:10<00:00, 12.51it/s]\n"
     ]
    },
    {
     "name": "stdout",
     "output_type": "stream",
     "text": [
      "保存新的最佳模型 checkpoints/best-0.577.pth\n",
      "Epoch 4/30\n"
     ]
    },
    {
     "name": "stderr",
     "output_type": "stream",
     "text": [
      "100%|██████████| 137/137 [00:10<00:00, 12.55it/s]\n"
     ]
    },
    {
     "name": "stdout",
     "output_type": "stream",
     "text": [
      "保存新的最佳模型 checkpoints/best-0.584.pth\n",
      "Epoch 5/30\n"
     ]
    },
    {
     "name": "stderr",
     "output_type": "stream",
     "text": [
      "100%|██████████| 137/137 [00:10<00:00, 12.49it/s]\n"
     ]
    },
    {
     "name": "stdout",
     "output_type": "stream",
     "text": [
      "保存新的最佳模型 checkpoints/best-0.605.pth\n",
      "Epoch 6/30\n"
     ]
    },
    {
     "name": "stderr",
     "output_type": "stream",
     "text": [
      "100%|██████████| 137/137 [00:11<00:00, 12.26it/s]\n"
     ]
    },
    {
     "name": "stdout",
     "output_type": "stream",
     "text": [
      "保存新的最佳模型 checkpoints/best-0.608.pth\n",
      "Epoch 7/30\n"
     ]
    },
    {
     "name": "stderr",
     "output_type": "stream",
     "text": [
      "100%|██████████| 137/137 [00:10<00:00, 12.47it/s]\n"
     ]
    },
    {
     "name": "stdout",
     "output_type": "stream",
     "text": [
      "Epoch 8/30\n"
     ]
    },
    {
     "name": "stderr",
     "output_type": "stream",
     "text": [
      "100%|██████████| 137/137 [00:10<00:00, 12.69it/s]\n"
     ]
    },
    {
     "name": "stdout",
     "output_type": "stream",
     "text": [
      "Epoch 9/30\n"
     ]
    },
    {
     "name": "stderr",
     "output_type": "stream",
     "text": [
      "100%|██████████| 137/137 [00:11<00:00, 12.30it/s]\n"
     ]
    },
    {
     "name": "stdout",
     "output_type": "stream",
     "text": [
      "Epoch 10/30\n"
     ]
    },
    {
     "name": "stderr",
     "output_type": "stream",
     "text": [
      "100%|██████████| 137/137 [00:11<00:00, 12.45it/s]\n"
     ]
    },
    {
     "name": "stdout",
     "output_type": "stream",
     "text": [
      "Epoch 11/30\n"
     ]
    },
    {
     "name": "stderr",
     "output_type": "stream",
     "text": [
      "100%|██████████| 137/137 [00:11<00:00, 12.38it/s]\n"
     ]
    },
    {
     "name": "stdout",
     "output_type": "stream",
     "text": [
      "保存新的最佳模型 checkpoints/best-0.668.pth\n",
      "Epoch 12/30\n"
     ]
    },
    {
     "name": "stderr",
     "output_type": "stream",
     "text": [
      "100%|██████████| 137/137 [00:10<00:00, 12.59it/s]\n"
     ]
    },
    {
     "name": "stdout",
     "output_type": "stream",
     "text": [
      "保存新的最佳模型 checkpoints/best-0.680.pth\n",
      "Epoch 13/30\n"
     ]
    },
    {
     "name": "stderr",
     "output_type": "stream",
     "text": [
      "100%|██████████| 137/137 [00:11<00:00, 12.39it/s]\n"
     ]
    },
    {
     "name": "stdout",
     "output_type": "stream",
     "text": [
      "保存新的最佳模型 checkpoints/best-0.686.pth\n",
      "Epoch 14/30\n"
     ]
    },
    {
     "name": "stderr",
     "output_type": "stream",
     "text": [
      "100%|██████████| 137/137 [00:10<00:00, 12.55it/s]\n"
     ]
    },
    {
     "name": "stdout",
     "output_type": "stream",
     "text": [
      "Epoch 15/30\n"
     ]
    },
    {
     "name": "stderr",
     "output_type": "stream",
     "text": [
      "100%|██████████| 137/137 [00:11<00:00, 12.32it/s]\n"
     ]
    },
    {
     "name": "stdout",
     "output_type": "stream",
     "text": [
      "Epoch 16/30\n"
     ]
    },
    {
     "name": "stderr",
     "output_type": "stream",
     "text": [
      "100%|██████████| 137/137 [00:10<00:00, 12.67it/s]\n"
     ]
    },
    {
     "name": "stdout",
     "output_type": "stream",
     "text": [
      "保存新的最佳模型 checkpoints/best-0.695.pth\n",
      "Epoch 17/30\n"
     ]
    },
    {
     "name": "stderr",
     "output_type": "stream",
     "text": [
      "100%|██████████| 137/137 [00:11<00:00, 12.40it/s]\n"
     ]
    },
    {
     "name": "stdout",
     "output_type": "stream",
     "text": [
      "Epoch 18/30\n"
     ]
    },
    {
     "name": "stderr",
     "output_type": "stream",
     "text": [
      "100%|██████████| 137/137 [00:10<00:00, 12.54it/s]\n"
     ]
    },
    {
     "name": "stdout",
     "output_type": "stream",
     "text": [
      "保存新的最佳模型 checkpoints/best-0.705.pth\n",
      "Epoch 19/30\n"
     ]
    },
    {
     "name": "stderr",
     "output_type": "stream",
     "text": [
      "100%|██████████| 137/137 [00:11<00:00, 12.45it/s]\n"
     ]
    },
    {
     "name": "stdout",
     "output_type": "stream",
     "text": [
      "保存新的最佳模型 checkpoints/best-0.710.pth\n",
      "Epoch 20/30\n"
     ]
    },
    {
     "name": "stderr",
     "output_type": "stream",
     "text": [
      "100%|██████████| 137/137 [00:10<00:00, 12.58it/s]\n"
     ]
    },
    {
     "name": "stdout",
     "output_type": "stream",
     "text": [
      "Epoch 21/30\n"
     ]
    },
    {
     "name": "stderr",
     "output_type": "stream",
     "text": [
      "100%|██████████| 137/137 [00:10<00:00, 12.55it/s]\n"
     ]
    },
    {
     "name": "stdout",
     "output_type": "stream",
     "text": [
      "Epoch 22/30\n"
     ]
    },
    {
     "name": "stderr",
     "output_type": "stream",
     "text": [
      "100%|██████████| 137/137 [00:11<00:00, 12.45it/s]\n"
     ]
    },
    {
     "name": "stdout",
     "output_type": "stream",
     "text": [
      "保存新的最佳模型 checkpoints/best-0.715.pth\n",
      "Epoch 23/30\n"
     ]
    },
    {
     "name": "stderr",
     "output_type": "stream",
     "text": [
      "100%|██████████| 137/137 [00:10<00:00, 12.60it/s]\n"
     ]
    },
    {
     "name": "stdout",
     "output_type": "stream",
     "text": [
      "保存新的最佳模型 checkpoints/best-0.717.pth\n",
      "Epoch 24/30\n"
     ]
    },
    {
     "name": "stderr",
     "output_type": "stream",
     "text": [
      "100%|██████████| 137/137 [00:10<00:00, 12.56it/s]\n"
     ]
    },
    {
     "name": "stdout",
     "output_type": "stream",
     "text": [
      "Epoch 25/30\n"
     ]
    },
    {
     "name": "stderr",
     "output_type": "stream",
     "text": [
      "100%|██████████| 137/137 [00:10<00:00, 12.57it/s]\n"
     ]
    },
    {
     "name": "stdout",
     "output_type": "stream",
     "text": [
      "Epoch 26/30\n"
     ]
    },
    {
     "name": "stderr",
     "output_type": "stream",
     "text": [
      "100%|██████████| 137/137 [00:11<00:00, 12.35it/s]\n"
     ]
    },
    {
     "name": "stdout",
     "output_type": "stream",
     "text": [
      "保存新的最佳模型 checkpoints/best-0.720.pth\n",
      "Epoch 27/30\n"
     ]
    },
    {
     "name": "stderr",
     "output_type": "stream",
     "text": [
      "100%|██████████| 137/137 [00:11<00:00, 12.39it/s]\n"
     ]
    },
    {
     "name": "stdout",
     "output_type": "stream",
     "text": [
      "Epoch 28/30\n"
     ]
    },
    {
     "name": "stderr",
     "output_type": "stream",
     "text": [
      "100%|██████████| 137/137 [00:10<00:00, 12.55it/s]\n"
     ]
    },
    {
     "name": "stdout",
     "output_type": "stream",
     "text": [
      "保存新的最佳模型 checkpoints/best-0.722.pth\n",
      "Epoch 29/30\n"
     ]
    },
    {
     "name": "stderr",
     "output_type": "stream",
     "text": [
      "100%|██████████| 137/137 [00:11<00:00, 12.21it/s]\n"
     ]
    },
    {
     "name": "stdout",
     "output_type": "stream",
     "text": [
      "Epoch 30/30\n"
     ]
    },
    {
     "name": "stderr",
     "output_type": "stream",
     "text": [
      "100%|██████████| 137/137 [00:11<00:00, 12.45it/s]\n"
     ]
    }
   ],
   "source": [
    "for epoch in range(1, EPOCHS+1):\n",
    "    \n",
    "    print(f'Epoch {epoch}/{EPOCHS}')\n",
    "    \n",
    "    ## 训练阶段\n",
    "    model.train()\n",
    "    for images, labels in tqdm(train_loader): # 获得一个 batch 的数据和标注\n",
    "        batch_idx += 1\n",
    "        log_train = train_one_batch(images, labels)\n",
    "        df_train_log = df_train_log.append(log_train, ignore_index=True)\n",
    "        wandb.log(log_train)\n",
    "        \n",
    "    lr_scheduler.step()\n",
    "\n",
    "    ## 测试阶段\n",
    "    model.eval()\n",
    "    log_test = evaluate_testset()\n",
    "    df_test_log = df_test_log.append(log_test, ignore_index=True)\n",
    "    wandb.log(log_test)\n",
    "    \n",
    "    # 保存最新的最佳模型文件\n",
    "    if log_test['test_accuracy'] > best_test_accuracy: \n",
    "        # 删除旧的最佳模型文件(如有)\n",
    "        old_best_checkpoint_path = 'checkpoints/best-{:.3f}.pth'.format(best_test_accuracy)\n",
    "        if os.path.exists(old_best_checkpoint_path):\n",
    "            os.remove(old_best_checkpoint_path)\n",
    "        # 保存新的最佳模型文件\n",
    "        new_best_checkpoint_path = 'checkpoints/best-{:.3f}.pth'.format(log_test['test_accuracy'])\n",
    "        torch.save(model, new_best_checkpoint_path)\n",
    "        print('保存新的最佳模型', 'checkpoints/best-{:.3f}.pth'.format(best_test_accuracy))\n",
    "        best_test_accuracy = log_test['test_accuracy']\n",
    "\n",
    "df_train_log.to_csv('训练日志-训练集.csv', index=False)\n",
    "df_test_log.to_csv('训练日志-测试集.csv', index=False)"
   ]
  },
  {
   "cell_type": "markdown",
   "id": "46a0a052-421e-451b-846f-05aa88e810f2",
   "metadata": {},
   "source": [
    "#### 在测试集上评价"
   ]
  },
  {
   "cell_type": "code",
   "execution_count": 88,
   "id": "c5233e03-b7e0-444c-b12d-8f1aa6e213a4",
   "metadata": {},
   "outputs": [],
   "source": [
    "# 载入最佳模型作为当前模型\n",
    "model = torch.load('checkpoints/best-{:.3f}.pth'.format(best_test_accuracy))"
   ]
  },
  {
   "cell_type": "code",
   "execution_count": 89,
   "id": "52e6002a-5461-4f08-9ab6-14b5d77ef1c7",
   "metadata": {},
   "outputs": [
    {
     "name": "stdout",
     "output_type": "stream",
     "text": [
      "{'epoch': 30, 'test_loss': 1.3505898, 'test_accuracy': 0.7300556586270872, 'test_precision': 0.7324855894111261, 'test_recall': 0.7304475036830068, 'test_f1-score': 0.7288910220420163}\n"
     ]
    }
   ],
   "source": [
    "model.eval()\n",
    "print(evaluate_testset())"
   ]
  },
  {
   "cell_type": "markdown",
   "id": "010d36dc-7832-4a42-a70c-2a7bd7ce863f",
   "metadata": {},
   "source": [
    "### 可视化训练日志"
   ]
  },
  {
   "cell_type": "markdown",
   "id": "f0ed5b67-c8c7-4d41-ba23-04e5a02811d3",
   "metadata": {},
   "source": [
    "#### 载入训练日志表格"
   ]
  },
  {
   "cell_type": "code",
   "execution_count": 31,
   "id": "683a676b-a1f0-4c5e-a021-52a91e794f8b",
   "metadata": {},
   "outputs": [],
   "source": [
    "df_train = pd.read_csv('训练日志-训练集.csv')\n",
    "df_test = pd.read_csv('训练日志-测试集.csv')"
   ]
  },
  {
   "cell_type": "code",
   "execution_count": 32,
   "id": "7dd8b75a-98de-4bcc-ae13-2c62d5e84b02",
   "metadata": {},
   "outputs": [
    {
     "data": {
      "text/html": [
       "<div>\n",
       "<style scoped>\n",
       "    .dataframe tbody tr th:only-of-type {\n",
       "        vertical-align: middle;\n",
       "    }\n",
       "\n",
       "    .dataframe tbody tr th {\n",
       "        vertical-align: top;\n",
       "    }\n",
       "\n",
       "    .dataframe thead th {\n",
       "        text-align: right;\n",
       "    }\n",
       "</style>\n",
       "<table border=\"1\" class=\"dataframe\">\n",
       "  <thead>\n",
       "    <tr style=\"text-align: right;\">\n",
       "      <th></th>\n",
       "      <th>epoch</th>\n",
       "      <th>batch</th>\n",
       "      <th>train_loss</th>\n",
       "      <th>train_accuracy</th>\n",
       "    </tr>\n",
       "  </thead>\n",
       "  <tbody>\n",
       "    <tr>\n",
       "      <th>0</th>\n",
       "      <td>0.0</td>\n",
       "      <td>0.0</td>\n",
       "      <td>1.612651</td>\n",
       "      <td>0.531250</td>\n",
       "    </tr>\n",
       "    <tr>\n",
       "      <th>1</th>\n",
       "      <td>1.0</td>\n",
       "      <td>1.0</td>\n",
       "      <td>1.677492</td>\n",
       "      <td>0.437500</td>\n",
       "    </tr>\n",
       "    <tr>\n",
       "      <th>2</th>\n",
       "      <td>1.0</td>\n",
       "      <td>2.0</td>\n",
       "      <td>1.013028</td>\n",
       "      <td>0.718750</td>\n",
       "    </tr>\n",
       "    <tr>\n",
       "      <th>3</th>\n",
       "      <td>1.0</td>\n",
       "      <td>3.0</td>\n",
       "      <td>1.198827</td>\n",
       "      <td>0.625000</td>\n",
       "    </tr>\n",
       "    <tr>\n",
       "      <th>4</th>\n",
       "      <td>1.0</td>\n",
       "      <td>4.0</td>\n",
       "      <td>1.237722</td>\n",
       "      <td>0.656250</td>\n",
       "    </tr>\n",
       "    <tr>\n",
       "      <th>...</th>\n",
       "      <td>...</td>\n",
       "      <td>...</td>\n",
       "      <td>...</td>\n",
       "      <td>...</td>\n",
       "    </tr>\n",
       "    <tr>\n",
       "      <th>4106</th>\n",
       "      <td>30.0</td>\n",
       "      <td>4106.0</td>\n",
       "      <td>0.576399</td>\n",
       "      <td>0.843750</td>\n",
       "    </tr>\n",
       "    <tr>\n",
       "      <th>4107</th>\n",
       "      <td>30.0</td>\n",
       "      <td>4107.0</td>\n",
       "      <td>0.616456</td>\n",
       "      <td>0.781250</td>\n",
       "    </tr>\n",
       "    <tr>\n",
       "      <th>4108</th>\n",
       "      <td>30.0</td>\n",
       "      <td>4108.0</td>\n",
       "      <td>0.763363</td>\n",
       "      <td>0.750000</td>\n",
       "    </tr>\n",
       "    <tr>\n",
       "      <th>4109</th>\n",
       "      <td>30.0</td>\n",
       "      <td>4109.0</td>\n",
       "      <td>0.701393</td>\n",
       "      <td>0.812500</td>\n",
       "    </tr>\n",
       "    <tr>\n",
       "      <th>4110</th>\n",
       "      <td>30.0</td>\n",
       "      <td>4110.0</td>\n",
       "      <td>0.495439</td>\n",
       "      <td>0.913043</td>\n",
       "    </tr>\n",
       "  </tbody>\n",
       "</table>\n",
       "<p>4111 rows × 4 columns</p>\n",
       "</div>"
      ],
      "text/plain": [
       "      epoch   batch  train_loss  train_accuracy\n",
       "0       0.0     0.0    1.612651        0.531250\n",
       "1       1.0     1.0    1.677492        0.437500\n",
       "2       1.0     2.0    1.013028        0.718750\n",
       "3       1.0     3.0    1.198827        0.625000\n",
       "4       1.0     4.0    1.237722        0.656250\n",
       "...     ...     ...         ...             ...\n",
       "4106   30.0  4106.0    0.576399        0.843750\n",
       "4107   30.0  4107.0    0.616456        0.781250\n",
       "4108   30.0  4108.0    0.763363        0.750000\n",
       "4109   30.0  4109.0    0.701393        0.812500\n",
       "4110   30.0  4110.0    0.495439        0.913043\n",
       "\n",
       "[4111 rows x 4 columns]"
      ]
     },
     "execution_count": 32,
     "metadata": {},
     "output_type": "execute_result"
    }
   ],
   "source": [
    "df_train"
   ]
  },
  {
   "cell_type": "code",
   "execution_count": 33,
   "id": "0fc034be-4720-455f-b8e4-5da8f095c32c",
   "metadata": {},
   "outputs": [
    {
     "data": {
      "text/html": [
       "<div>\n",
       "<style scoped>\n",
       "    .dataframe tbody tr th:only-of-type {\n",
       "        vertical-align: middle;\n",
       "    }\n",
       "\n",
       "    .dataframe tbody tr th {\n",
       "        vertical-align: top;\n",
       "    }\n",
       "\n",
       "    .dataframe thead th {\n",
       "        text-align: right;\n",
       "    }\n",
       "</style>\n",
       "<table border=\"1\" class=\"dataframe\">\n",
       "  <thead>\n",
       "    <tr style=\"text-align: right;\">\n",
       "      <th></th>\n",
       "      <th>epoch</th>\n",
       "      <th>test_loss</th>\n",
       "      <th>test_accuracy</th>\n",
       "      <th>test_precision</th>\n",
       "      <th>test_recall</th>\n",
       "      <th>test_f1-score</th>\n",
       "    </tr>\n",
       "  </thead>\n",
       "  <tbody>\n",
       "    <tr>\n",
       "      <th>0</th>\n",
       "      <td>0.0</td>\n",
       "      <td>1.391301</td>\n",
       "      <td>0.503711</td>\n",
       "      <td>0.572680</td>\n",
       "      <td>0.503880</td>\n",
       "      <td>0.484875</td>\n",
       "    </tr>\n",
       "    <tr>\n",
       "      <th>1</th>\n",
       "      <td>1.0</td>\n",
       "      <td>1.807743</td>\n",
       "      <td>0.563080</td>\n",
       "      <td>0.586151</td>\n",
       "      <td>0.560782</td>\n",
       "      <td>0.542379</td>\n",
       "    </tr>\n",
       "    <tr>\n",
       "      <th>2</th>\n",
       "      <td>2.0</td>\n",
       "      <td>2.003460</td>\n",
       "      <td>0.576994</td>\n",
       "      <td>0.592116</td>\n",
       "      <td>0.577048</td>\n",
       "      <td>0.561856</td>\n",
       "    </tr>\n",
       "    <tr>\n",
       "      <th>3</th>\n",
       "      <td>3.0</td>\n",
       "      <td>1.617598</td>\n",
       "      <td>0.584416</td>\n",
       "      <td>0.636623</td>\n",
       "      <td>0.583169</td>\n",
       "      <td>0.567916</td>\n",
       "    </tr>\n",
       "    <tr>\n",
       "      <th>4</th>\n",
       "      <td>4.0</td>\n",
       "      <td>1.553020</td>\n",
       "      <td>0.604824</td>\n",
       "      <td>0.637112</td>\n",
       "      <td>0.602252</td>\n",
       "      <td>0.599236</td>\n",
       "    </tr>\n",
       "    <tr>\n",
       "      <th>5</th>\n",
       "      <td>5.0</td>\n",
       "      <td>1.563933</td>\n",
       "      <td>0.607607</td>\n",
       "      <td>0.632911</td>\n",
       "      <td>0.607105</td>\n",
       "      <td>0.601604</td>\n",
       "    </tr>\n",
       "    <tr>\n",
       "      <th>6</th>\n",
       "      <td>6.0</td>\n",
       "      <td>1.448338</td>\n",
       "      <td>0.667904</td>\n",
       "      <td>0.681259</td>\n",
       "      <td>0.669004</td>\n",
       "      <td>0.663533</td>\n",
       "    </tr>\n",
       "    <tr>\n",
       "      <th>7</th>\n",
       "      <td>7.0</td>\n",
       "      <td>1.229467</td>\n",
       "      <td>0.641929</td>\n",
       "      <td>0.671411</td>\n",
       "      <td>0.641512</td>\n",
       "      <td>0.643429</td>\n",
       "    </tr>\n",
       "    <tr>\n",
       "      <th>8</th>\n",
       "      <td>8.0</td>\n",
       "      <td>1.831026</td>\n",
       "      <td>0.653989</td>\n",
       "      <td>0.675201</td>\n",
       "      <td>0.654813</td>\n",
       "      <td>0.654005</td>\n",
       "    </tr>\n",
       "    <tr>\n",
       "      <th>9</th>\n",
       "      <td>9.0</td>\n",
       "      <td>1.565286</td>\n",
       "      <td>0.653989</td>\n",
       "      <td>0.679993</td>\n",
       "      <td>0.652480</td>\n",
       "      <td>0.649526</td>\n",
       "    </tr>\n",
       "    <tr>\n",
       "      <th>10</th>\n",
       "      <td>10.0</td>\n",
       "      <td>1.385255</td>\n",
       "      <td>0.665121</td>\n",
       "      <td>0.690381</td>\n",
       "      <td>0.662127</td>\n",
       "      <td>0.660141</td>\n",
       "    </tr>\n",
       "    <tr>\n",
       "      <th>11</th>\n",
       "      <td>11.0</td>\n",
       "      <td>1.747727</td>\n",
       "      <td>0.679963</td>\n",
       "      <td>0.694784</td>\n",
       "      <td>0.678688</td>\n",
       "      <td>0.677039</td>\n",
       "    </tr>\n",
       "    <tr>\n",
       "      <th>12</th>\n",
       "      <td>12.0</td>\n",
       "      <td>1.659420</td>\n",
       "      <td>0.686456</td>\n",
       "      <td>0.700094</td>\n",
       "      <td>0.685129</td>\n",
       "      <td>0.682671</td>\n",
       "    </tr>\n",
       "    <tr>\n",
       "      <th>13</th>\n",
       "      <td>13.0</td>\n",
       "      <td>1.317313</td>\n",
       "      <td>0.694805</td>\n",
       "      <td>0.703375</td>\n",
       "      <td>0.694403</td>\n",
       "      <td>0.690004</td>\n",
       "    </tr>\n",
       "    <tr>\n",
       "      <th>14</th>\n",
       "      <td>14.0</td>\n",
       "      <td>1.345487</td>\n",
       "      <td>0.694805</td>\n",
       "      <td>0.705483</td>\n",
       "      <td>0.693949</td>\n",
       "      <td>0.693069</td>\n",
       "    </tr>\n",
       "    <tr>\n",
       "      <th>15</th>\n",
       "      <td>15.0</td>\n",
       "      <td>1.661723</td>\n",
       "      <td>0.670686</td>\n",
       "      <td>0.685123</td>\n",
       "      <td>0.669922</td>\n",
       "      <td>0.664859</td>\n",
       "    </tr>\n",
       "    <tr>\n",
       "      <th>16</th>\n",
       "      <td>16.0</td>\n",
       "      <td>1.262092</td>\n",
       "      <td>0.705009</td>\n",
       "      <td>0.710470</td>\n",
       "      <td>0.704259</td>\n",
       "      <td>0.701554</td>\n",
       "    </tr>\n",
       "    <tr>\n",
       "      <th>17</th>\n",
       "      <td>17.0</td>\n",
       "      <td>1.405879</td>\n",
       "      <td>0.704082</td>\n",
       "      <td>0.708941</td>\n",
       "      <td>0.702360</td>\n",
       "      <td>0.700242</td>\n",
       "    </tr>\n",
       "    <tr>\n",
       "      <th>18</th>\n",
       "      <td>18.0</td>\n",
       "      <td>1.342824</td>\n",
       "      <td>0.709647</td>\n",
       "      <td>0.716667</td>\n",
       "      <td>0.709322</td>\n",
       "      <td>0.708307</td>\n",
       "    </tr>\n",
       "    <tr>\n",
       "      <th>19</th>\n",
       "      <td>19.0</td>\n",
       "      <td>1.327042</td>\n",
       "      <td>0.715213</td>\n",
       "      <td>0.725558</td>\n",
       "      <td>0.714195</td>\n",
       "      <td>0.712683</td>\n",
       "    </tr>\n",
       "    <tr>\n",
       "      <th>20</th>\n",
       "      <td>20.0</td>\n",
       "      <td>1.303069</td>\n",
       "      <td>0.709647</td>\n",
       "      <td>0.712372</td>\n",
       "      <td>0.708411</td>\n",
       "      <td>0.706424</td>\n",
       "    </tr>\n",
       "    <tr>\n",
       "      <th>21</th>\n",
       "      <td>21.0</td>\n",
       "      <td>1.505829</td>\n",
       "      <td>0.714286</td>\n",
       "      <td>0.718407</td>\n",
       "      <td>0.713729</td>\n",
       "      <td>0.712102</td>\n",
       "    </tr>\n",
       "    <tr>\n",
       "      <th>22</th>\n",
       "      <td>22.0</td>\n",
       "      <td>1.384903</td>\n",
       "      <td>0.717069</td>\n",
       "      <td>0.722701</td>\n",
       "      <td>0.716832</td>\n",
       "      <td>0.714166</td>\n",
       "    </tr>\n",
       "    <tr>\n",
       "      <th>23</th>\n",
       "      <td>23.0</td>\n",
       "      <td>1.300683</td>\n",
       "      <td>0.719852</td>\n",
       "      <td>0.722422</td>\n",
       "      <td>0.719371</td>\n",
       "      <td>0.717945</td>\n",
       "    </tr>\n",
       "    <tr>\n",
       "      <th>24</th>\n",
       "      <td>24.0</td>\n",
       "      <td>1.236514</td>\n",
       "      <td>0.711503</td>\n",
       "      <td>0.714319</td>\n",
       "      <td>0.710713</td>\n",
       "      <td>0.708153</td>\n",
       "    </tr>\n",
       "    <tr>\n",
       "      <th>25</th>\n",
       "      <td>25.0</td>\n",
       "      <td>1.514048</td>\n",
       "      <td>0.718924</td>\n",
       "      <td>0.723493</td>\n",
       "      <td>0.718388</td>\n",
       "      <td>0.716698</td>\n",
       "    </tr>\n",
       "    <tr>\n",
       "      <th>26</th>\n",
       "      <td>26.0</td>\n",
       "      <td>1.248751</td>\n",
       "      <td>0.721707</td>\n",
       "      <td>0.728020</td>\n",
       "      <td>0.720848</td>\n",
       "      <td>0.720448</td>\n",
       "    </tr>\n",
       "    <tr>\n",
       "      <th>27</th>\n",
       "      <td>27.0</td>\n",
       "      <td>1.182826</td>\n",
       "      <td>0.719852</td>\n",
       "      <td>0.724115</td>\n",
       "      <td>0.719608</td>\n",
       "      <td>0.717728</td>\n",
       "    </tr>\n",
       "    <tr>\n",
       "      <th>28</th>\n",
       "      <td>28.0</td>\n",
       "      <td>1.350590</td>\n",
       "      <td>0.730056</td>\n",
       "      <td>0.732486</td>\n",
       "      <td>0.730448</td>\n",
       "      <td>0.728891</td>\n",
       "    </tr>\n",
       "    <tr>\n",
       "      <th>29</th>\n",
       "      <td>29.0</td>\n",
       "      <td>1.256534</td>\n",
       "      <td>0.722635</td>\n",
       "      <td>0.727439</td>\n",
       "      <td>0.722010</td>\n",
       "      <td>0.720175</td>\n",
       "    </tr>\n",
       "    <tr>\n",
       "      <th>30</th>\n",
       "      <td>30.0</td>\n",
       "      <td>1.313113</td>\n",
       "      <td>0.722635</td>\n",
       "      <td>0.725164</td>\n",
       "      <td>0.721774</td>\n",
       "      <td>0.719889</td>\n",
       "    </tr>\n",
       "  </tbody>\n",
       "</table>\n",
       "</div>"
      ],
      "text/plain": [
       "    epoch  test_loss  test_accuracy  test_precision  test_recall  \\\n",
       "0     0.0   1.391301       0.503711        0.572680     0.503880   \n",
       "1     1.0   1.807743       0.563080        0.586151     0.560782   \n",
       "2     2.0   2.003460       0.576994        0.592116     0.577048   \n",
       "3     3.0   1.617598       0.584416        0.636623     0.583169   \n",
       "4     4.0   1.553020       0.604824        0.637112     0.602252   \n",
       "5     5.0   1.563933       0.607607        0.632911     0.607105   \n",
       "6     6.0   1.448338       0.667904        0.681259     0.669004   \n",
       "7     7.0   1.229467       0.641929        0.671411     0.641512   \n",
       "8     8.0   1.831026       0.653989        0.675201     0.654813   \n",
       "9     9.0   1.565286       0.653989        0.679993     0.652480   \n",
       "10   10.0   1.385255       0.665121        0.690381     0.662127   \n",
       "11   11.0   1.747727       0.679963        0.694784     0.678688   \n",
       "12   12.0   1.659420       0.686456        0.700094     0.685129   \n",
       "13   13.0   1.317313       0.694805        0.703375     0.694403   \n",
       "14   14.0   1.345487       0.694805        0.705483     0.693949   \n",
       "15   15.0   1.661723       0.670686        0.685123     0.669922   \n",
       "16   16.0   1.262092       0.705009        0.710470     0.704259   \n",
       "17   17.0   1.405879       0.704082        0.708941     0.702360   \n",
       "18   18.0   1.342824       0.709647        0.716667     0.709322   \n",
       "19   19.0   1.327042       0.715213        0.725558     0.714195   \n",
       "20   20.0   1.303069       0.709647        0.712372     0.708411   \n",
       "21   21.0   1.505829       0.714286        0.718407     0.713729   \n",
       "22   22.0   1.384903       0.717069        0.722701     0.716832   \n",
       "23   23.0   1.300683       0.719852        0.722422     0.719371   \n",
       "24   24.0   1.236514       0.711503        0.714319     0.710713   \n",
       "25   25.0   1.514048       0.718924        0.723493     0.718388   \n",
       "26   26.0   1.248751       0.721707        0.728020     0.720848   \n",
       "27   27.0   1.182826       0.719852        0.724115     0.719608   \n",
       "28   28.0   1.350590       0.730056        0.732486     0.730448   \n",
       "29   29.0   1.256534       0.722635        0.727439     0.722010   \n",
       "30   30.0   1.313113       0.722635        0.725164     0.721774   \n",
       "\n",
       "    test_f1-score  \n",
       "0        0.484875  \n",
       "1        0.542379  \n",
       "2        0.561856  \n",
       "3        0.567916  \n",
       "4        0.599236  \n",
       "5        0.601604  \n",
       "6        0.663533  \n",
       "7        0.643429  \n",
       "8        0.654005  \n",
       "9        0.649526  \n",
       "10       0.660141  \n",
       "11       0.677039  \n",
       "12       0.682671  \n",
       "13       0.690004  \n",
       "14       0.693069  \n",
       "15       0.664859  \n",
       "16       0.701554  \n",
       "17       0.700242  \n",
       "18       0.708307  \n",
       "19       0.712683  \n",
       "20       0.706424  \n",
       "21       0.712102  \n",
       "22       0.714166  \n",
       "23       0.717945  \n",
       "24       0.708153  \n",
       "25       0.716698  \n",
       "26       0.720448  \n",
       "27       0.717728  \n",
       "28       0.728891  \n",
       "29       0.720175  \n",
       "30       0.719889  "
      ]
     },
     "execution_count": 33,
     "metadata": {},
     "output_type": "execute_result"
    }
   ],
   "source": [
    "df_test"
   ]
  },
  {
   "cell_type": "markdown",
   "id": "324e2e21-4df3-44ea-9857-192f36006327",
   "metadata": {},
   "source": [
    "#### 训练集损失函数"
   ]
  },
  {
   "cell_type": "code",
   "execution_count": 34,
   "id": "98cbd5e0-7a7e-4c6b-9a47-69377e86d7d9",
   "metadata": {},
   "outputs": [
    {
     "data": {
      "image/png": "[encoded data removed]",
      "text/plain": [
       "<Figure size 1152x576 with 1 Axes>"
      ]
     },
     "metadata": {
      "needs_background": "light"
     },
     "output_type": "display_data"
    }
   ],
   "source": [
    "plt.figure(figsize=(16, 8))\n",
    "\n",
    "x = df_train['batch']\n",
    "y = df_train['train_loss']\n",
    "\n",
    "plt.plot(x, y, label='训练集')\n",
    "\n",
    "plt.tick_params(labelsize=20)\n",
    "plt.xlabel('batch', fontsize=20)\n",
    "plt.ylabel('loss', fontsize=20)\n",
    "plt.title('训练集损失函数', fontsize=25)\n",
    "plt.savefig('图表/训练集损失函数.pdf', dpi=120, bbox_inches='tight')\n",
    "\n",
    "plt.show()"
   ]
  },
  {
   "cell_type": "markdown",
   "id": "abc9aa87-12b9-4dbf-89e0-19ffa9ae87a8",
   "metadata": {},
   "source": [
    "#### 训练集准确率"
   ]
  },
  {
   "cell_type": "code",
   "execution_count": 35,
   "id": "b0d2f940-d46c-4902-91ac-96e0d9a299c3",
   "metadata": {},
   "outputs": [
    {
     "data": {
      "image/png": "[encoded data removed]",
      "text/plain": [
       "<Figure size 1152x576 with 1 Axes>"
      ]
     },
     "metadata": {
      "needs_background": "light"
     },
     "output_type": "display_data"
    }
   ],
   "source": [
    "plt.figure(figsize=(16, 8))\n",
    "\n",
    "x = df_train['batch']\n",
    "y = df_train['train_accuracy']\n",
    "\n",
    "plt.plot(x, y, label='训练集')\n",
    "\n",
    "plt.tick_params(labelsize=20)\n",
    "plt.xlabel('batch', fontsize=20)\n",
    "plt.ylabel('loss', fontsize=20)\n",
    "plt.title('训练集准确率', fontsize=25)\n",
    "plt.savefig('图表/训练集准确率.pdf', dpi=120, bbox_inches='tight')\n",
    "\n",
    "plt.show()"
   ]
  },
  {
   "cell_type": "markdown",
   "id": "878eb106-4cda-4d46-afcc-3ffda9cccc45",
   "metadata": {},
   "source": [
    "#### 测试集损失函数"
   ]
  },
  {
   "cell_type": "code",
   "execution_count": 36,
   "id": "fadb6429-68b5-4211-b35c-aeed32ec9d0e",
   "metadata": {},
   "outputs": [
    {
     "data": {
      "image/png": "[encoded data removed]",
      "text/plain": [
       "<Figure size 1152x576 with 1 Axes>"
      ]
     },
     "metadata": {
      "needs_background": "light"
     },
     "output_type": "display_data"
    }
   ],
   "source": [
    "plt.figure(figsize=(16, 8))\n",
    "\n",
    "x = df_test['epoch']\n",
    "y = df_test['test_loss']\n",
    "\n",
    "plt.plot(x, y, label='测试集')\n",
    "\n",
    "plt.tick_params(labelsize=20)\n",
    "plt.xlabel('epoch', fontsize=20)\n",
    "plt.ylabel('loss', fontsize=20)\n",
    "plt.title('测试集损失函数', fontsize=25)\n",
    "plt.savefig('图表/测试集损失函数.pdf', dpi=120, bbox_inches='tight')\n",
    "\n",
    "plt.show()"
   ]
  },
  {
   "cell_type": "markdown",
   "id": "263781fe-177b-43b7-b800-8508aaeec03c",
   "metadata": {},
   "source": [
    "#### 测试集评估指标"
   ]
  },
  {
   "cell_type": "code",
   "execution_count": 37,
   "id": "07cb9244-2176-471b-b502-b475167f37d1",
   "metadata": {},
   "outputs": [],
   "source": [
    "from matplotlib import colors as mcolors\n",
    "import random\n",
    "random.seed(124)\n",
    "colors = ['b', 'g', 'r', 'c', 'm', 'y', 'k', 'tab:blue', 'tab:orange', 'tab:green', 'tab:red', 'tab:purple', 'tab:brown', 'tab:pink', 'tab:gray', 'tab:olive', 'tab:cyan', 'black', 'indianred', 'brown', 'firebrick', 'maroon', 'darkred', 'red', 'sienna', 'chocolate', 'yellow', 'olivedrab', 'yellowgreen', 'darkolivegreen', 'forestgreen', 'limegreen', 'darkgreen', 'green', 'lime', 'seagreen', 'mediumseagreen', 'darkslategray', 'darkslategrey', 'teal', 'darkcyan', 'dodgerblue', 'navy', 'darkblue', 'mediumblue', 'blue', 'slateblue', 'darkslateblue', 'mediumslateblue', 'mediumpurple', 'rebeccapurple', 'blueviolet', 'indigo', 'darkorchid', 'darkviolet', 'mediumorchid', 'purple', 'darkmagenta', 'fuchsia', 'magenta', 'orchid', 'mediumvioletred', 'deeppink', 'hotpink']\n",
    "markers = [\".\",\",\",\"o\",\"v\",\"^\",\"<\",\">\",\"1\",\"2\",\"3\",\"4\",\"8\",\"s\",\"p\",\"P\",\"*\",\"h\",\"H\",\"+\",\"x\",\"X\",\"D\",\"d\",\"|\",\"_\",0,1,2,3,4,5,6,7,8,9,10,11]\n",
    "linestyle = ['--', '-.', '-']\n",
    "def get_line_arg():\n",
    "    '''\n",
    "    随机产生一种绘图线型\n",
    "    '''\n",
    "    line_arg = {}\n",
    "    line_arg['color'] = random.choice(colors)\n",
    "    # line_arg['marker'] = random.choice(markers)\n",
    "    line_arg['linestyle'] = random.choice(linestyle)\n",
    "    line_arg['linewidth'] = random.randint(1, 4)\n",
    "    # line_arg['markersize'] = random.randint(3, 5)\n",
    "    return line_arg"
   ]
  },
  {
   "cell_type": "code",
   "execution_count": 38,
   "id": "576a2f1f-84db-498c-9823-86af71eb8518",
   "metadata": {},
   "outputs": [],
   "source": [
    "metrics = ['test_accuracy', 'test_precision', 'test_recall', 'test_f1-score']"
   ]
  },
  {
   "cell_type": "code",
   "execution_count": 39,
   "id": "6087540d-17f7-4014-9cd5-33ebcfd2eb83",
   "metadata": {},
   "outputs": [
    {
     "data": {
      "image/png": "[encoded data removed]",
      "text/plain": [
       "<Figure size 1152x576 with 1 Axes>"
      ]
     },
     "metadata": {
      "needs_background": "light"
     },
     "output_type": "display_data"
    }
   ],
   "source": [
    "plt.figure(figsize=(16, 8))\n",
    "\n",
    "x = df_test['epoch']\n",
    "for y in metrics:\n",
    "    plt.plot(x, df_test[y], label=y, **get_line_arg())\n",
    "\n",
    "plt.tick_params(labelsize=20)\n",
    "plt.ylim([0, 1])\n",
    "plt.xlabel('epoch', fontsize=20)\n",
    "plt.ylabel(y, fontsize=20)\n",
    "plt.title('测试集分类评估指标', fontsize=25)\n",
    "plt.savefig('图表/测试集分类评估指标.pdf', dpi=120, bbox_inches='tight')\n",
    "\n",
    "plt.legend(fontsize=20)\n",
    "\n",
    "plt.show()"
   ]
  },
  {
   "cell_type": "code",
   "execution_count": null,
   "id": "1198142c-e9a9-4c22-8b19-688769a98643",
   "metadata": {},
   "outputs": [],
   "source": []
  }
 ],
 "metadata": {
  "kernelspec": {
   "display_name": "Python 3 (ipykernel)",
   "language": "python",
   "name": "python3"
  },
  "language_info": {
   "codemirror_mode": {
    "name": "ipython",
    "version": 3
   },
   "file_extension": ".py",
   "mimetype": "text/x-python",
   "name": "python",
   "nbconvert_exporter": "python",
   "pygments_lexer": "ipython3",
   "version": "3.7.10"
  }
 },
 "nbformat": 4,
 "nbformat_minor": 5
}
